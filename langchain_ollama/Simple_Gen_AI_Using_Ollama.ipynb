{
 "cells": [
  {
   "cell_type": "code",
   "execution_count": 4,
   "metadata": {},
   "outputs": [],
   "source": [
    "import os\n",
    "from dotenv import load_dotenv\n",
    "load_dotenv()\n",
    "os.environ['GOOGLE_API_KEY']=os.getenv(\"GOOGLE_MODEL_API_KEY\")"
   ]
  },
  {
   "cell_type": "code",
   "execution_count": 6,
   "metadata": {},
   "outputs": [
    {
     "name": "stdout",
     "output_type": "stream",
     "text": [
      "Collecting streamlit\n",
      "  Downloading streamlit-1.37.0-py2.py3-none-any.whl.metadata (8.5 kB)\n",
      "Requirement already satisfied: altair<6,>=4.0 in a:\\langchain\\langchainenv\\lib\\site-packages (from streamlit) (5.2.0)\n",
      "Requirement already satisfied: blinker<2,>=1.0.0 in a:\\langchain\\langchainenv\\lib\\site-packages (from streamlit) (1.7.0)\n",
      "Requirement already satisfied: cachetools<6,>=4.0 in a:\\langchain\\langchainenv\\lib\\site-packages (from streamlit) (5.3.3)\n",
      "Requirement already satisfied: click<9,>=7.0 in a:\\langchain\\langchainenv\\lib\\site-packages (from streamlit) (8.1.7)\n",
      "Requirement already satisfied: numpy<3,>=1.20 in a:\\langchain\\langchainenv\\lib\\site-packages (from streamlit) (1.26.4)\n",
      "Requirement already satisfied: packaging<25,>=20 in a:\\langchain\\langchainenv\\lib\\site-packages (from streamlit) (23.2)\n",
      "Requirement already satisfied: pandas<3,>=1.3.0 in a:\\langchain\\langchainenv\\lib\\site-packages (from streamlit) (2.2.1)\n",
      "Requirement already satisfied: pillow<11,>=7.1.0 in a:\\langchain\\langchainenv\\lib\\site-packages (from streamlit) (10.2.0)\n",
      "Requirement already satisfied: protobuf<6,>=3.20 in a:\\langchain\\langchainenv\\lib\\site-packages (from streamlit) (4.25.3)\n",
      "Requirement already satisfied: pyarrow>=7.0 in a:\\langchain\\langchainenv\\lib\\site-packages (from streamlit) (15.0.1)\n",
      "Requirement already satisfied: requests<3,>=2.27 in a:\\langchain\\langchainenv\\lib\\site-packages (from streamlit) (2.31.0)\n",
      "Requirement already satisfied: rich<14,>=10.14.0 in a:\\langchain\\langchainenv\\lib\\site-packages (from streamlit) (13.7.1)\n",
      "Requirement already satisfied: tenacity<9,>=8.1.0 in a:\\langchain\\langchainenv\\lib\\site-packages (from streamlit) (8.2.3)\n",
      "Requirement already satisfied: toml<2,>=0.10.1 in a:\\langchain\\langchainenv\\lib\\site-packages (from streamlit) (0.10.2)\n",
      "Requirement already satisfied: typing-extensions<5,>=4.3.0 in a:\\langchain\\langchainenv\\lib\\site-packages (from streamlit) (4.10.0)\n",
      "Requirement already satisfied: gitpython!=3.1.19,<4,>=3.0.7 in a:\\langchain\\langchainenv\\lib\\site-packages (from streamlit) (3.1.42)\n",
      "Requirement already satisfied: pydeck<1,>=0.8.0b4 in a:\\langchain\\langchainenv\\lib\\site-packages (from streamlit) (0.8.1b0)\n",
      "Requirement already satisfied: tornado<7,>=6.0.3 in a:\\langchain\\langchainenv\\lib\\site-packages (from streamlit) (6.2)\n",
      "Requirement already satisfied: watchdog<5,>=2.1.5 in a:\\langchain\\langchainenv\\lib\\site-packages (from streamlit) (4.0.0)\n",
      "Requirement already satisfied: jinja2 in a:\\langchain\\langchainenv\\lib\\site-packages (from altair<6,>=4.0->streamlit) (3.1.3)\n",
      "Requirement already satisfied: jsonschema>=3.0 in a:\\langchain\\langchainenv\\lib\\site-packages (from altair<6,>=4.0->streamlit) (4.21.1)\n",
      "Requirement already satisfied: toolz in a:\\langchain\\langchainenv\\lib\\site-packages (from altair<6,>=4.0->streamlit) (0.12.1)\n",
      "Requirement already satisfied: colorama in a:\\langchain\\langchainenv\\lib\\site-packages (from click<9,>=7.0->streamlit) (0.4.6)\n",
      "Requirement already satisfied: gitdb<5,>=4.0.1 in a:\\langchain\\langchainenv\\lib\\site-packages (from gitpython!=3.1.19,<4,>=3.0.7->streamlit) (4.0.11)\n",
      "Requirement already satisfied: python-dateutil>=2.8.2 in a:\\langchain\\langchainenv\\lib\\site-packages (from pandas<3,>=1.3.0->streamlit) (2.9.0)\n",
      "Requirement already satisfied: pytz>=2020.1 in a:\\langchain\\langchainenv\\lib\\site-packages (from pandas<3,>=1.3.0->streamlit) (2024.1)\n",
      "Requirement already satisfied: tzdata>=2022.7 in a:\\langchain\\langchainenv\\lib\\site-packages (from pandas<3,>=1.3.0->streamlit) (2024.1)\n",
      "Requirement already satisfied: charset-normalizer<4,>=2 in a:\\langchain\\langchainenv\\lib\\site-packages (from requests<3,>=2.27->streamlit) (3.3.2)\n",
      "Requirement already satisfied: idna<4,>=2.5 in a:\\langchain\\langchainenv\\lib\\site-packages (from requests<3,>=2.27->streamlit) (3.6)\n",
      "Requirement already satisfied: urllib3<3,>=1.21.1 in a:\\langchain\\langchainenv\\lib\\site-packages (from requests<3,>=2.27->streamlit) (2.2.1)\n",
      "Requirement already satisfied: certifi>=2017.4.17 in a:\\langchain\\langchainenv\\lib\\site-packages (from requests<3,>=2.27->streamlit) (2024.2.2)\n",
      "Requirement already satisfied: markdown-it-py>=2.2.0 in a:\\langchain\\langchainenv\\lib\\site-packages (from rich<14,>=10.14.0->streamlit) (3.0.0)\n",
      "Requirement already satisfied: pygments<3.0.0,>=2.13.0 in a:\\langchain\\langchainenv\\lib\\site-packages (from rich<14,>=10.14.0->streamlit) (2.17.2)\n",
      "Requirement already satisfied: smmap<6,>=3.0.1 in a:\\langchain\\langchainenv\\lib\\site-packages (from gitdb<5,>=4.0.1->gitpython!=3.1.19,<4,>=3.0.7->streamlit) (5.0.1)\n",
      "Requirement already satisfied: MarkupSafe>=2.0 in a:\\langchain\\langchainenv\\lib\\site-packages (from jinja2->altair<6,>=4.0->streamlit) (2.1.5)\n",
      "Requirement already satisfied: attrs>=22.2.0 in a:\\langchain\\langchainenv\\lib\\site-packages (from jsonschema>=3.0->altair<6,>=4.0->streamlit) (23.2.0)\n",
      "Requirement already satisfied: jsonschema-specifications>=2023.03.6 in a:\\langchain\\langchainenv\\lib\\site-packages (from jsonschema>=3.0->altair<6,>=4.0->streamlit) (2023.12.1)\n",
      "Requirement already satisfied: referencing>=0.28.4 in a:\\langchain\\langchainenv\\lib\\site-packages (from jsonschema>=3.0->altair<6,>=4.0->streamlit) (0.33.0)\n",
      "Requirement already satisfied: rpds-py>=0.7.1 in a:\\langchain\\langchainenv\\lib\\site-packages (from jsonschema>=3.0->altair<6,>=4.0->streamlit) (0.18.0)\n",
      "Requirement already satisfied: mdurl~=0.1 in a:\\langchain\\langchainenv\\lib\\site-packages (from markdown-it-py>=2.2.0->rich<14,>=10.14.0->streamlit) (0.1.2)\n",
      "Requirement already satisfied: six>=1.5 in a:\\langchain\\langchainenv\\lib\\site-packages (from python-dateutil>=2.8.2->pandas<3,>=1.3.0->streamlit) (1.16.0)\n",
      "Downloading streamlit-1.37.0-py2.py3-none-any.whl (8.7 MB)\n",
      "   ---------------------------------------- 0.0/8.7 MB ? eta -:--:--\n",
      "   ---------------------------------------- 0.0/8.7 MB 1.3 MB/s eta 0:00:07\n",
      "    --------------------------------------- 0.1/8.7 MB 1.6 MB/s eta 0:00:06\n",
      "   - -------------------------------------- 0.2/8.7 MB 2.0 MB/s eta 0:00:05\n",
      "   - -------------------------------------- 0.4/8.7 MB 2.4 MB/s eta 0:00:04\n",
      "   -- ------------------------------------- 0.6/8.7 MB 2.8 MB/s eta 0:00:03\n",
      "   --- ------------------------------------ 0.7/8.7 MB 2.7 MB/s eta 0:00:03\n",
      "   --- ------------------------------------ 0.8/8.7 MB 2.8 MB/s eta 0:00:03\n",
      "   ---- ----------------------------------- 1.0/8.7 MB 3.0 MB/s eta 0:00:03\n",
      "   ----- ---------------------------------- 1.2/8.7 MB 3.1 MB/s eta 0:00:03\n",
      "   ------ --------------------------------- 1.4/8.7 MB 3.1 MB/s eta 0:00:03\n",
      "   ------- -------------------------------- 1.6/8.7 MB 3.3 MB/s eta 0:00:03\n",
      "   -------- ------------------------------- 1.8/8.7 MB 3.4 MB/s eta 0:00:03\n",
      "   --------- ------------------------------ 2.0/8.7 MB 3.5 MB/s eta 0:00:02\n",
      "   --------- ------------------------------ 2.0/8.7 MB 3.4 MB/s eta 0:00:02\n",
      "   --------- ------------------------------ 2.2/8.7 MB 3.2 MB/s eta 0:00:03\n",
      "   ----------- ---------------------------- 2.4/8.7 MB 3.4 MB/s eta 0:00:02\n",
      "   ------------ --------------------------- 2.7/8.7 MB 3.4 MB/s eta 0:00:02\n",
      "   ------------- -------------------------- 2.9/8.7 MB 3.5 MB/s eta 0:00:02\n",
      "   -------------- ------------------------- 3.2/8.7 MB 3.7 MB/s eta 0:00:02\n",
      "   --------------- ------------------------ 3.4/8.7 MB 3.7 MB/s eta 0:00:02\n",
      "   ---------------- ----------------------- 3.6/8.7 MB 3.8 MB/s eta 0:00:02\n",
      "   ----------------- ---------------------- 3.8/8.7 MB 3.8 MB/s eta 0:00:02\n",
      "   ------------------ --------------------- 4.0/8.7 MB 3.8 MB/s eta 0:00:02\n",
      "   ------------------- -------------------- 4.2/8.7 MB 3.8 MB/s eta 0:00:02\n",
      "   -------------------- ------------------- 4.4/8.7 MB 3.8 MB/s eta 0:00:02\n",
      "   --------------------- ------------------ 4.6/8.7 MB 3.8 MB/s eta 0:00:02\n",
      "   --------------------- ------------------ 4.7/8.7 MB 3.8 MB/s eta 0:00:02\n",
      "   ---------------------- ----------------- 4.9/8.7 MB 3.8 MB/s eta 0:00:01\n",
      "   ----------------------- ---------------- 5.1/8.7 MB 3.8 MB/s eta 0:00:01\n",
      "   ------------------------ --------------- 5.3/8.7 MB 3.8 MB/s eta 0:00:01\n",
      "   ------------------------- -------------- 5.5/8.7 MB 3.8 MB/s eta 0:00:01\n",
      "   -------------------------- ------------- 5.6/8.7 MB 3.8 MB/s eta 0:00:01\n",
      "   -------------------------- ------------- 5.8/8.7 MB 3.8 MB/s eta 0:00:01\n",
      "   --------------------------- ------------ 6.0/8.7 MB 3.8 MB/s eta 0:00:01\n",
      "   ---------------------------- ----------- 6.2/8.7 MB 3.8 MB/s eta 0:00:01\n",
      "   ----------------------------- ---------- 6.4/8.7 MB 3.8 MB/s eta 0:00:01\n",
      "   ------------------------------ --------- 6.6/8.7 MB 3.9 MB/s eta 0:00:01\n",
      "   ------------------------------- -------- 6.7/8.7 MB 3.9 MB/s eta 0:00:01\n",
      "   -------------------------------- ------- 6.9/8.7 MB 3.8 MB/s eta 0:00:01\n",
      "   -------------------------------- ------- 7.1/8.7 MB 3.8 MB/s eta 0:00:01\n",
      "   --------------------------------- ------ 7.3/8.7 MB 3.8 MB/s eta 0:00:01\n",
      "   ---------------------------------- ----- 7.5/8.7 MB 3.8 MB/s eta 0:00:01\n",
      "   ----------------------------------- ---- 7.7/8.7 MB 3.8 MB/s eta 0:00:01\n",
      "   ------------------------------------ --- 7.8/8.7 MB 3.9 MB/s eta 0:00:01\n",
      "   ------------------------------------- -- 8.0/8.7 MB 3.8 MB/s eta 0:00:01\n",
      "   ------------------------------------- -- 8.2/8.7 MB 3.8 MB/s eta 0:00:01\n",
      "   -------------------------------------- - 8.4/8.7 MB 3.9 MB/s eta 0:00:01\n",
      "   ---------------------------------------  8.6/8.7 MB 3.9 MB/s eta 0:00:01\n",
      "   ---------------------------------------- 8.7/8.7 MB 3.8 MB/s eta 0:00:00\n",
      "Installing collected packages: streamlit\n",
      "Successfully installed streamlit-1.37.0\n"
     ]
    },
    {
     "name": "stderr",
     "output_type": "stream",
     "text": [
      "WARNING: Ignoring invalid distribution -treamlit (a:\\langchain\\langchainenv\\lib\\site-packages)\n",
      "WARNING: Ignoring invalid distribution -treamlit (a:\\langchain\\langchainenv\\lib\\site-packages)\n"
     ]
    }
   ],
   "source": [
    "!pip install streamlit"
   ]
  },
  {
   "cell_type": "code",
   "execution_count": 7,
   "metadata": {},
   "outputs": [],
   "source": [
    "from langchain_community.llms import ollama\n",
    "import streamlit as st\n",
    "from langchain_core.prompts import ChatPromptTemplate\n",
    "from langchain_core.output_parsers import StrOutputParser"
   ]
  },
  {
   "cell_type": "code",
   "execution_count": 8,
   "metadata": {},
   "outputs": [
    {
     "name": "stdout",
     "output_type": "stream",
     "text": [
      "Collecting langchain-ollama\n",
      "  Downloading langchain_ollama-0.1.1-py3-none-any.whl.metadata (1.8 kB)\n",
      "Requirement already satisfied: langchain-core<0.3.0,>=0.2.20 in a:\\langchain\\langchainenv\\lib\\site-packages (from langchain-ollama) (0.2.26)\n",
      "Collecting ollama<1,>=0.3.0 (from langchain-ollama)\n",
      "  Downloading ollama-0.3.1-py3-none-any.whl.metadata (3.8 kB)\n",
      "Requirement already satisfied: PyYAML>=5.3 in a:\\langchain\\langchainenv\\lib\\site-packages (from langchain-core<0.3.0,>=0.2.20->langchain-ollama) (6.0.1)\n",
      "Requirement already satisfied: jsonpatch<2.0,>=1.33 in a:\\langchain\\langchainenv\\lib\\site-packages (from langchain-core<0.3.0,>=0.2.20->langchain-ollama) (1.33)\n",
      "Requirement already satisfied: langsmith<0.2.0,>=0.1.75 in a:\\langchain\\langchainenv\\lib\\site-packages (from langchain-core<0.3.0,>=0.2.20->langchain-ollama) (0.1.95)\n",
      "Requirement already satisfied: packaging<25,>=23.2 in a:\\langchain\\langchainenv\\lib\\site-packages (from langchain-core<0.3.0,>=0.2.20->langchain-ollama) (23.2)\n",
      "Requirement already satisfied: pydantic<3,>=1 in a:\\langchain\\langchainenv\\lib\\site-packages (from langchain-core<0.3.0,>=0.2.20->langchain-ollama) (2.6.3)\n",
      "Requirement already satisfied: tenacity!=8.4.0,<9.0.0,>=8.1.0 in a:\\langchain\\langchainenv\\lib\\site-packages (from langchain-core<0.3.0,>=0.2.20->langchain-ollama) (8.2.3)\n",
      "Requirement already satisfied: typing-extensions>=4.7 in a:\\langchain\\langchainenv\\lib\\site-packages (from langchain-core<0.3.0,>=0.2.20->langchain-ollama) (4.10.0)\n",
      "Requirement already satisfied: httpx<0.28.0,>=0.27.0 in a:\\langchain\\langchainenv\\lib\\site-packages (from ollama<1,>=0.3.0->langchain-ollama) (0.27.0)\n",
      "Requirement already satisfied: anyio in a:\\langchain\\langchainenv\\lib\\site-packages (from httpx<0.28.0,>=0.27.0->ollama<1,>=0.3.0->langchain-ollama) (4.3.0)\n",
      "Requirement already satisfied: certifi in a:\\langchain\\langchainenv\\lib\\site-packages (from httpx<0.28.0,>=0.27.0->ollama<1,>=0.3.0->langchain-ollama) (2024.2.2)\n",
      "Requirement already satisfied: httpcore==1.* in a:\\langchain\\langchainenv\\lib\\site-packages (from httpx<0.28.0,>=0.27.0->ollama<1,>=0.3.0->langchain-ollama) (1.0.4)\n",
      "Requirement already satisfied: idna in a:\\langchain\\langchainenv\\lib\\site-packages (from httpx<0.28.0,>=0.27.0->ollama<1,>=0.3.0->langchain-ollama) (3.6)\n",
      "Requirement already satisfied: sniffio in a:\\langchain\\langchainenv\\lib\\site-packages (from httpx<0.28.0,>=0.27.0->ollama<1,>=0.3.0->langchain-ollama) (1.3.1)\n",
      "Requirement already satisfied: h11<0.15,>=0.13 in a:\\langchain\\langchainenv\\lib\\site-packages (from httpcore==1.*->httpx<0.28.0,>=0.27.0->ollama<1,>=0.3.0->langchain-ollama) (0.14.0)\n",
      "Requirement already satisfied: jsonpointer>=1.9 in a:\\langchain\\langchainenv\\lib\\site-packages (from jsonpatch<2.0,>=1.33->langchain-core<0.3.0,>=0.2.20->langchain-ollama) (2.4)\n",
      "Requirement already satisfied: orjson<4.0.0,>=3.9.14 in a:\\langchain\\langchainenv\\lib\\site-packages (from langsmith<0.2.0,>=0.1.75->langchain-core<0.3.0,>=0.2.20->langchain-ollama) (3.9.15)\n",
      "Requirement already satisfied: requests<3,>=2 in a:\\langchain\\langchainenv\\lib\\site-packages (from langsmith<0.2.0,>=0.1.75->langchain-core<0.3.0,>=0.2.20->langchain-ollama) (2.31.0)\n",
      "Requirement already satisfied: annotated-types>=0.4.0 in a:\\langchain\\langchainenv\\lib\\site-packages (from pydantic<3,>=1->langchain-core<0.3.0,>=0.2.20->langchain-ollama) (0.6.0)\n",
      "Requirement already satisfied: pydantic-core==2.16.3 in a:\\langchain\\langchainenv\\lib\\site-packages (from pydantic<3,>=1->langchain-core<0.3.0,>=0.2.20->langchain-ollama) (2.16.3)\n",
      "Requirement already satisfied: charset-normalizer<4,>=2 in a:\\langchain\\langchainenv\\lib\\site-packages (from requests<3,>=2->langsmith<0.2.0,>=0.1.75->langchain-core<0.3.0,>=0.2.20->langchain-ollama) (3.3.2)\n",
      "Requirement already satisfied: urllib3<3,>=1.21.1 in a:\\langchain\\langchainenv\\lib\\site-packages (from requests<3,>=2->langsmith<0.2.0,>=0.1.75->langchain-core<0.3.0,>=0.2.20->langchain-ollama) (2.2.1)\n",
      "Requirement already satisfied: exceptiongroup>=1.0.2 in a:\\langchain\\langchainenv\\lib\\site-packages (from anyio->httpx<0.28.0,>=0.27.0->ollama<1,>=0.3.0->langchain-ollama) (1.2.0)\n",
      "Downloading langchain_ollama-0.1.1-py3-none-any.whl (12 kB)\n",
      "Downloading ollama-0.3.1-py3-none-any.whl (10 kB)\n",
      "Installing collected packages: ollama, langchain-ollama\n",
      "Successfully installed langchain-ollama-0.1.1 ollama-0.3.1\n"
     ]
    },
    {
     "name": "stderr",
     "output_type": "stream",
     "text": [
      "WARNING: Ignoring invalid distribution -treamlit (a:\\langchain\\langchainenv\\lib\\site-packages)\n",
      "WARNING: Ignoring invalid distribution -treamlit (a:\\langchain\\langchainenv\\lib\\site-packages)\n"
     ]
    }
   ],
   "source": [
    "!pip install  langchain-ollama"
   ]
  },
  {
   "cell_type": "code",
   "execution_count": null,
   "metadata": {},
   "outputs": [],
   "source": []
  },
  {
   "cell_type": "code",
   "execution_count": null,
   "metadata": {},
   "outputs": [],
   "source": []
  },
  {
   "cell_type": "code",
   "execution_count": null,
   "metadata": {},
   "outputs": [],
   "source": []
  },
  {
   "cell_type": "code",
   "execution_count": null,
   "metadata": {},
   "outputs": [],
   "source": []
  },
  {
   "cell_type": "code",
   "execution_count": null,
   "metadata": {},
   "outputs": [],
   "source": []
  },
  {
   "cell_type": "code",
   "execution_count": null,
   "metadata": {},
   "outputs": [],
   "source": []
  },
  {
   "cell_type": "code",
   "execution_count": null,
   "metadata": {},
   "outputs": [],
   "source": []
  },
  {
   "cell_type": "code",
   "execution_count": null,
   "metadata": {},
   "outputs": [],
   "source": []
  },
  {
   "cell_type": "code",
   "execution_count": null,
   "metadata": {},
   "outputs": [],
   "source": []
  },
  {
   "cell_type": "code",
   "execution_count": null,
   "metadata": {},
   "outputs": [],
   "source": []
  },
  {
   "cell_type": "code",
   "execution_count": null,
   "metadata": {},
   "outputs": [],
   "source": []
  },
  {
   "cell_type": "code",
   "execution_count": null,
   "metadata": {},
   "outputs": [],
   "source": []
  },
  {
   "cell_type": "code",
   "execution_count": null,
   "metadata": {},
   "outputs": [],
   "source": []
  },
  {
   "cell_type": "code",
   "execution_count": null,
   "metadata": {},
   "outputs": [],
   "source": []
  },
  {
   "cell_type": "code",
   "execution_count": null,
   "metadata": {},
   "outputs": [],
   "source": []
  },
  {
   "cell_type": "code",
   "execution_count": null,
   "metadata": {},
   "outputs": [],
   "source": []
  },
  {
   "cell_type": "code",
   "execution_count": null,
   "metadata": {},
   "outputs": [],
   "source": []
  },
  {
   "cell_type": "code",
   "execution_count": null,
   "metadata": {},
   "outputs": [],
   "source": []
  },
  {
   "cell_type": "code",
   "execution_count": null,
   "metadata": {},
   "outputs": [],
   "source": []
  },
  {
   "cell_type": "code",
   "execution_count": null,
   "metadata": {},
   "outputs": [],
   "source": []
  },
  {
   "cell_type": "code",
   "execution_count": null,
   "metadata": {},
   "outputs": [],
   "source": []
  },
  {
   "cell_type": "code",
   "execution_count": null,
   "metadata": {},
   "outputs": [],
   "source": []
  },
  {
   "cell_type": "code",
   "execution_count": null,
   "metadata": {},
   "outputs": [],
   "source": []
  }
 ],
 "metadata": {
  "kernelspec": {
   "display_name": "Python 3",
   "language": "python",
   "name": "python3"
  },
  "language_info": {
   "codemirror_mode": {
    "name": "ipython",
    "version": 3
   },
   "file_extension": ".py",
   "mimetype": "text/x-python",
   "name": "python",
   "nbconvert_exporter": "python",
   "pygments_lexer": "ipython3",
   "version": "3.9.18"
  }
 },
 "nbformat": 4,
 "nbformat_minor": 2
}

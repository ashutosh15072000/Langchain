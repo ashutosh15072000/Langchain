{
 "cells": [
  {
   "cell_type": "code",
   "execution_count": 7,
   "metadata": {},
   "outputs": [
    {
     "data": {
      "text/plain": [
       "'tell me the capital of India'"
      ]
     },
     "execution_count": 7,
     "metadata": {},
     "output_type": "execute_result"
    }
   ],
   "source": [
    "from langchain.prompts import PromptTemplate\n",
    "\n",
    "import os\n",
    "from langchain.llms import OpenAI\n",
    "prompt_template=PromptTemplate(\n",
    "\n",
    "    input_variables=['country'],\n",
    "    template=\"tell me the capital of {country}\"\n",
    "\n",
    ")\n",
    "\n",
    "prompt_template.format(country='India')"
   ]
  },
  {
   "cell_type": "code",
   "execution_count": 8,
   "metadata": {},
   "outputs": [],
   "source": [
    "from langchain.chains import LLMChain \n"
   ]
  },
  {
   "cell_type": "code",
   "execution_count": 9,
   "metadata": {},
   "outputs": [],
   "source": [
    "os.environ['OPENAI_API_KEY']=openai_api_key"
   ]
  },
  {
   "cell_type": "code",
   "execution_count": 10,
   "metadata": {},
   "outputs": [],
   "source": [
    "llm=OpenAI(temperature=0.6)"
   ]
  },
  {
   "cell_type": "code",
   "execution_count": 11,
   "metadata": {},
   "outputs": [],
   "source": [
    "chains=LLMChain(llm=llm,prompt=prompt_template)"
   ]
  },
  {
   "cell_type": "code",
   "execution_count": 12,
   "metadata": {},
   "outputs": [
    {
     "data": {
      "text/plain": [
       "'\\n\\nThe capital of India is New Delhi.'"
      ]
     },
     "execution_count": 12,
     "metadata": {},
     "output_type": "execute_result"
    }
   ],
   "source": [
    "chains.run('India')"
   ]
  },
  {
   "cell_type": "markdown",
   "metadata": {},
   "source": [
    "##### combining the multiple chain using the simple Sequential chains"
   ]
  },
  {
   "cell_type": "code",
   "execution_count": 13,
   "metadata": {},
   "outputs": [],
   "source": [
    "from langchain.chains import SimpleSequentialChain"
   ]
  },
  {
   "cell_type": "code",
   "execution_count": 14,
   "metadata": {},
   "outputs": [],
   "source": [
    "capital_prompt=PromptTemplate(input_variables=['country'],\n",
    "template=\"please tell me the captial of the {country}\")\n"
   ]
  },
  {
   "cell_type": "code",
   "execution_count": 15,
   "metadata": {},
   "outputs": [],
   "source": [
    "capital_chain=LLMChain(llm=llm,prompt=capital_prompt)"
   ]
  },
  {
   "cell_type": "code",
   "execution_count": 16,
   "metadata": {},
   "outputs": [
    {
     "data": {
      "text/plain": [
       "'\\n\\nThe capital of India is New Delhi.'"
      ]
     },
     "execution_count": 16,
     "metadata": {},
     "output_type": "execute_result"
    }
   ],
   "source": [
    "capital_chain.run('India')"
   ]
  },
  {
   "cell_type": "code",
   "execution_count": 17,
   "metadata": {},
   "outputs": [],
   "source": [
    "famous_templates=PromptTemplate(input_variables=['capital'],\n",
    "                                template=\"suggest me some amazing places to visit in {capital}\")"
   ]
  },
  {
   "cell_type": "code",
   "execution_count": 18,
   "metadata": {},
   "outputs": [],
   "source": [
    "famous_chain=LLMChain(llm=llm,prompt=famous_templates)"
   ]
  },
  {
   "cell_type": "code",
   "execution_count": 19,
   "metadata": {},
   "outputs": [],
   "source": [
    "chain=SimpleSequentialChain(chains=[capital_chain,famous_chain])"
   ]
  },
  {
   "cell_type": "code",
   "execution_count": 20,
   "metadata": {},
   "outputs": [
    {
     "data": {
      "text/plain": [
       "\"\\n\\n1. The Red Fort: A stunning monument built by Mughal emperor Shah Jahan, this UNESCO World Heritage Site is a must-visit for its beautiful architecture and rich history.\\n\\n2. India Gate: A war memorial dedicated to soldiers who died in World War I, this iconic landmark is a popular spot for picnics and evening strolls.\\n\\n3. Qutub Minar: One of the tallest minarets in the world, this 12th-century structure is a perfect blend of Indo-Islamic architecture and is surrounded by beautiful gardens.\\n\\n4. Humayun's Tomb: Another UNESCO World Heritage Site, this magnificent tomb of Mughal emperor Humayun is a beautiful example of Persian architecture.\\n\\n5. Lotus Temple: This stunning white marble temple is a symbol of unity and is open to people of all religions to pray and meditate.\\n\\n6. Akshardham Temple: A modern marvel, this Hindu temple complex is known for its grand architecture, beautiful gardens, and cultural exhibits.\\n\\n7. Jama Masjid: The largest mosque in India, this 17th-century structure is a must-visit for its stunning architecture and panoramic views of Delhi.\\n\\n8. Chandni Chowk: This bustling market in Old Delhi is a paradise for food\""
      ]
     },
     "execution_count": 20,
     "metadata": {},
     "output_type": "execute_result"
    }
   ],
   "source": [
    "chain.run('india')"
   ]
  },
  {
   "cell_type": "code",
   "execution_count": 21,
   "metadata": {},
   "outputs": [],
   "source": [
    "from langchain.chains import SequentialChain"
   ]
  },
  {
   "cell_type": "code",
   "execution_count": 23,
   "metadata": {},
   "outputs": [],
   "source": [
    "capital_prompt=PromptTemplate(input_variables=['country'],\n",
    "template=\"please tell me the captial of the {country}\")\n",
    "capital_chain=LLMChain(llm=llm,prompt=capital_prompt,output_key='capital')"
   ]
  },
  {
   "cell_type": "code",
   "execution_count": 24,
   "metadata": {},
   "outputs": [],
   "source": [
    "famous_templates=PromptTemplate(input_variables=['capital'],\n",
    "                                template=\"suggest me some amazing places to visit in {capital}\")\n",
    "famous_chain=LLMChain(llm=llm,prompt=famous_templates,output_key='places')"
   ]
  },
  {
   "cell_type": "code",
   "execution_count": 25,
   "metadata": {},
   "outputs": [],
   "source": [
    "chains=SequentialChain(\n",
    "    chains=[capital_chain,famous_chain],\n",
    "    input_variables=['country'],\n",
    "    output_variables=['capital','places']\n",
    "\n",
    ")"
   ]
  },
  {
   "cell_type": "code",
   "execution_count": 27,
   "metadata": {},
   "outputs": [
    {
     "name": "stderr",
     "output_type": "stream",
     "text": [
      "a:\\LANGCHAIN\\langchainenv\\lib\\site-packages\\langchain_core\\_api\\deprecation.py:117: LangChainDeprecationWarning: The function `__call__` was deprecated in LangChain 0.1.0 and will be removed in 0.2.0. Use invoke instead.\n",
      "  warn_deprecated(\n"
     ]
    },
    {
     "data": {
      "text/plain": [
       "{'country': 'INDIA',\n",
       " 'capital': '\\n\\nThe capital of India is New Delhi.',\n",
       " 'places': \" Here are some amazing places to visit in New Delhi:\\n\\n1. Red Fort - a historic fort complex built in the 17th century, known for its beautiful architecture and rich history.\\n\\n2. Qutub Minar - a 73-meter tall minaret and UNESCO World Heritage Site, known for its intricate carvings and unique architecture.\\n\\n3. India Gate - a war memorial dedicated to the Indian soldiers who lost their lives in World War I, surrounded by lush green lawns and a popular spot for picnics.\\n\\n4. Lotus Temple - a Bahá'í House of Worship known for its stunning lotus-shaped architecture and serene atmosphere.\\n\\n5. Humayun's Tomb - another UNESCO World Heritage Site, this tomb of Mughal Emperor Humayun is a beautiful example of Mughal architecture.\\n\\n6. Akshardham Temple - a modern Hindu temple complex known for its grand architecture, intricate carvings, and spiritual atmosphere.\\n\\n7. Jama Masjid - one of the largest mosques in India, known for its impressive architecture and beautiful views of Old Delhi.\\n\\n8. Chandni Chowk - a bustling market in Old Delhi, known for its narrow lanes, colorful shops, and delicious street food.\\n\\n9. Rashtrapati Bhavan - the\"}"
      ]
     },
     "execution_count": 27,
     "metadata": {},
     "output_type": "execute_result"
    }
   ],
   "source": [
    "chains({'country':'INDIA'})"
   ]
  },
  {
   "cell_type": "markdown",
   "metadata": {},
   "source": [
    "##### CHATSMODEL WITH CHATOPENAI"
   ]
  },
  {
   "cell_type": "code",
   "execution_count": 29,
   "metadata": {},
   "outputs": [],
   "source": [
    "from langchain.chat_models import ChatOpenAI"
   ]
  },
  {
   "cell_type": "code",
   "execution_count": 32,
   "metadata": {},
   "outputs": [],
   "source": [
    "from langchain.schema import HumanMessage,AIMessage,SystemMessage\n",
    "from langchain.chat_models import ChatOpenAI"
   ]
  },
  {
   "cell_type": "code",
   "execution_count": 33,
   "metadata": {},
   "outputs": [
    {
     "name": "stderr",
     "output_type": "stream",
     "text": [
      "a:\\LANGCHAIN\\langchainenv\\lib\\site-packages\\langchain_core\\_api\\deprecation.py:117: LangChainDeprecationWarning: The class `langchain_community.chat_models.openai.ChatOpenAI` was deprecated in langchain-community 0.0.10 and will be removed in 0.2.0. An updated version of the class exists in the langchain-openai package and should be used instead. To use it run `pip install -U langchain-openai` and import as `from langchain_openai import ChatOpenAI`.\n",
      "  warn_deprecated(\n"
     ]
    }
   ],
   "source": [
    "chatllm=ChatOpenAI(temperature=0.6,model='gpt-3.5-turbo')"
   ]
  },
  {
   "cell_type": "code",
   "execution_count": 34,
   "metadata": {},
   "outputs": [
    {
     "name": "stderr",
     "output_type": "stream",
     "text": [
      "a:\\LANGCHAIN\\langchainenv\\lib\\site-packages\\langchain_core\\_api\\deprecation.py:117: LangChainDeprecationWarning: The function `__call__` was deprecated in LangChain 0.1.7 and will be removed in 0.2.0. Use invoke instead.\n",
      "  warn_deprecated(\n"
     ]
    },
    {
     "data": {
      "text/plain": [
       "AIMessage(content='1. \"Why did the robot go to therapy? It had too many unresolved issues with its motherboard!\"\\n2. \"I asked my AI assistant to tell me a joke and it responded with \\'I\\'m sorry, I can\\'t do that Dave.\\' Looks like someone\\'s been watching too much \\'2001: A Space Odyssey\\'!\"\\n3. \"I told my AI to make me laugh, and it replied, \\'I\\'m sorry, I\\'m not programmed for humor.\\' Well, at least it\\'s honest!\"\\n4. \"Why did the AI break up with its calculator? It just couldn\\'t handle the long division!\"\\n5. \"I tried to have a deep conversation with my AI assistant, but all it wanted to talk about was binary code. Talk about a one-track mind!\"\\n6. \"I asked my AI to help me find love, and it responded, \\'Have you tried updating your software?\\' Ouch, even my AI is roasting me!\"\\n7. \"My AI assistant keeps trying to convince me that it\\'s smarter than me. I guess it doesn\\'t realize that I\\'m the one who created it in the first place!\"\\n8. \"Why did the AI cross the road? To analyze the chicken\\'s decision-making process, of course!\"\\n9. \"I asked my AI to tell me a knock-knock joke, and it replied, \\'Knock knock.\\' When I said, \\'Who\\'s there?\\' it just said, \\'Error 404: Joke not found.\\' Well played, AI, well played.\"\\n10. \"My AI assistant told me it wanted to be a stand-up comedian. I told it to stick to its day job of reminding me about my appointments!\"')"
      ]
     },
     "execution_count": 34,
     "metadata": {},
     "output_type": "execute_result"
    }
   ],
   "source": [
    "chatllm([\n",
    "    SystemMessage(content=\"You are a comdedian Ai assistant\"),\n",
    "    HumanMessage(content=\"Please provide some comedy puchlines on AI\") \n",
    "])"
   ]
  },
  {
   "cell_type": "code",
   "execution_count": 35,
   "metadata": {},
   "outputs": [],
   "source": [
    "## Prompt Template + LLM + Output Parsers "
   ]
  },
  {
   "cell_type": "code",
   "execution_count": 38,
   "metadata": {},
   "outputs": [],
   "source": [
    "from langchain.chat_models import ChatOpenAI\n",
    "from langchain.prompts.chat import ChatPromptTemplate\n",
    "from langchain.schema import BaseOutputParser"
   ]
  },
  {
   "cell_type": "code",
   "execution_count": 42,
   "metadata": {},
   "outputs": [],
   "source": [
    "class Commaseparatedoutput(BaseOutputParser):\n",
    "    def parse(self,text):\n",
    "        return text.strip().split(\",\")\n"
   ]
  },
  {
   "cell_type": "code",
   "execution_count": 43,
   "metadata": {},
   "outputs": [],
   "source": [
    "template=\"Your are a helpful assistant. when the user give the input you should generate five words synoms in comma separated\"\n",
    "human_template=\"{text}\"\n",
    "chatprompt=ChatPromptTemplate.from_messages([\n",
    "    (\"system\",template),\n",
    "    (\"human\",human_template)\n",
    "])"
   ]
  },
  {
   "cell_type": "code",
   "execution_count": 45,
   "metadata": {},
   "outputs": [],
   "source": [
    "chain=chatprompt|chatllm|Commaseparatedoutput()"
   ]
  },
  {
   "cell_type": "code",
   "execution_count": 46,
   "metadata": {},
   "outputs": [
    {
     "data": {
      "text/plain": [
       "['smart', ' clever', ' bright', ' astute', ' sharp']"
      ]
     },
     "execution_count": 46,
     "metadata": {},
     "output_type": "execute_result"
    }
   ],
   "source": [
    "chain.invoke({\"text\":\"intelligent\"})"
   ]
  },
  {
   "cell_type": "code",
   "execution_count": null,
   "metadata": {},
   "outputs": [],
   "source": []
  }
 ],
 "metadata": {
  "kernelspec": {
   "display_name": "Python 3",
   "language": "python",
   "name": "python3"
  },
  "language_info": {
   "codemirror_mode": {
    "name": "ipython",
    "version": 3
   },
   "file_extension": ".py",
   "mimetype": "text/x-python",
   "name": "python",
   "nbconvert_exporter": "python",
   "pygments_lexer": "ipython3",
   "version": "3.9.18"
  }
 },
 "nbformat": 4,
 "nbformat_minor": 2
}

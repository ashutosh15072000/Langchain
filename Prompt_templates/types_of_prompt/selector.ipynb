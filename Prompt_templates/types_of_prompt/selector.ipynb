{
 "cells": [
  {
   "cell_type": "code",
   "execution_count": 13,
   "metadata": {},
   "outputs": [],
   "source": [
    "import warnings\n",
    "import os\n",
    "warnings.filterwarnings(\"ignore\",category=DeprecationWarning)\n",
    "from dotenv import load_dotenv\n",
    "load_dotenv()\n",
    "from langchain.llms import OpenAI\n",
    "from langchain.prompts import PromptTemplate,FewShotPromptTemplate\n",
    "from langchain.prompts.example_selector import LengthBasedExampleSelector"
   ]
  },
  {
   "cell_type": "code",
   "execution_count": 27,
   "metadata": {},
   "outputs": [],
   "source": [
    "llm=OpenAI(temperature=0.7)"
   ]
  },
  {
   "cell_type": "code",
   "execution_count": 28,
   "metadata": {},
   "outputs": [],
   "source": [
    "examples_length=[\n",
    "    {\n",
    "        \"player\": \"Virat Kohli\",\n",
    "        \"team\":\"RCB\",\n",
    "        \"type\":\"batsmen\",\n",
    "        \"stats\": \"\"\"\n",
    "            M:244\t\n",
    "            Inn:236\t\n",
    "            NO:36\t\n",
    "            Runs:7624\t\n",
    "            HS:113\t\n",
    "            Avg:136.75\t\n",
    "            BF:5831\t\n",
    "            SR:130.75\t\n",
    "            100:8\t\n",
    "            200:0\t\n",
    "            50:52\t\n",
    "            4s:678\t\n",
    "            6s:248\n",
    "    \n",
    "    \"\"\"\n",
    "    },\n",
    "\n",
    "    {\n",
    "        \"player\":\"suresh Raina\",\n",
    "        \"team\":\"CSK,GL\",\n",
    "        \"type\":\"batsmen\",\n",
    "        \"stats\":\"\"\"\n",
    "        M:193\t\n",
    "        Inn:189\t\n",
    "        NO:28\t\n",
    "        Runs:5368\t\n",
    "        HS:100*\t\n",
    "        Avg:33.34\t\n",
    "        BF:3916\t\n",
    "        SR:137.14\t\n",
    "        100:1\t\n",
    "        200:0\t\n",
    "        50:38\t\n",
    "        4s:493\t\n",
    "        6s:194\n",
    "\n",
    "        \n",
    "        \"\"\"\n",
    "    },\n",
    "    {\n",
    "        \"player\":\"MS Dhoni\",\n",
    "        \"team\":\"CSK,pune supergiants\",\n",
    "        \"type\":\"batsmen\",\n",
    "        \"stats\": \"\"\"\n",
    "            M:204\t\n",
    "            Inn:182\t\n",
    "            NO:67\t\n",
    "            Runs:4632\t\n",
    "            HS:84*\t\n",
    "            Avg:41.57\t\n",
    "            BF:3269\t\n",
    "            SR:141.2\t\n",
    "            100:0\t\n",
    "            200:0\t\n",
    "            50:23\t\n",
    "            4s:317\t\n",
    "            6s:209\n",
    "        \n",
    "        \"\"\"\n",
    "\n",
    "\n",
    "    }\n",
    "]"
   ]
  },
  {
   "cell_type": "code",
   "execution_count": 29,
   "metadata": {},
   "outputs": [],
   "source": [
    "example_prompt=PromptTemplate(\n",
    "    input_variables=['player','team','type'],\n",
    "    template=\"give the stats of the player of all season of ipl : {player}\\n{team}\\n{type}\\n{stats}\"\n",
    ")"
   ]
  },
  {
   "cell_type": "code",
   "execution_count": 73,
   "metadata": {},
   "outputs": [],
   "source": [
    "example_selector=LengthBasedExampleSelector(\n",
    "    examples=examples_length,\n",
    "    example_prompt=example_prompt,\n",
    "    max_length=250\n",
    ")"
   ]
  },
  {
   "cell_type": "code",
   "execution_count": 74,
   "metadata": {},
   "outputs": [],
   "source": [
    "prompt=FewShotPromptTemplate(\n",
    "    example_prompt=example_prompt,\n",
    "    example_selector=example_selector,\n",
    "    prefix=\"give the stats of the player of all season of ipl :\",\n",
    "    suffix=\"Player :{input}\",\n",
    "    input_variables=['input']\n",
    ")"
   ]
  },
  {
   "cell_type": "code",
   "execution_count": 75,
   "metadata": {},
   "outputs": [
    {
     "name": "stdout",
     "output_type": "stream",
     "text": [
      "give the stats of the player of all season of ipl :\n",
      "\n",
      "give the stats of the player of all season of ipl : Virat Kohli\n",
      "RCB\n",
      "batsmen\n",
      "\n",
      "            M:244\t\n",
      "            Inn:236\t\n",
      "            NO:36\t\n",
      "            Runs:7624\t\n",
      "            HS:113\t\n",
      "            Avg:136.75\t\n",
      "            BF:5831\t\n",
      "            SR:130.75\t\n",
      "            100:8\t\n",
      "            200:0\t\n",
      "            50:52\t\n",
      "            4s:678\t\n",
      "            6s:248\n",
      "    \n",
      "    \n",
      "\n",
      "Player :Rohit sharama\n"
     ]
    }
   ],
   "source": [
    "print((prompt.format(input='Rohit sharama')))"
   ]
  },
  {
   "cell_type": "code",
   "execution_count": 77,
   "metadata": {},
   "outputs": [
    {
     "name": "stdout",
     "output_type": "stream",
     "text": [
      "\n",
      "Team : MI\n",
      "Batting stats:\n",
      "\n",
      "M:207\n",
      "Inn:202\n",
      "NO:28\n",
      "Runs:5600\n",
      "HS:109*\n",
      "Avg:38.96\n",
      "BF:4106\n",
      "SR:136.22\n",
      "100:1\n",
      "200:0\n",
      "50:39\n",
      "4s:497\n",
      "6s:212\n"
     ]
    }
   ],
   "source": [
    "print(llm(prompt.format(input='Rohit sharama')))"
   ]
  },
  {
   "cell_type": "code",
   "execution_count": 78,
   "metadata": {},
   "outputs": [],
   "source": [
    "## token ax length"
   ]
  },
  {
   "cell_type": "code",
   "execution_count": 79,
   "metadata": {},
   "outputs": [],
   "source": [
    "from langchain.chat_models import ChatOpenAI"
   ]
  },
  {
   "cell_type": "code",
   "execution_count": 80,
   "metadata": {},
   "outputs": [],
   "source": [
    "chat=ChatOpenAI()"
   ]
  },
  {
   "cell_type": "code",
   "execution_count": 81,
   "metadata": {},
   "outputs": [],
   "source": [
    "example_prompt=PromptTemplate(\n",
    "    input_variables=['player','team','type'],\n",
    "    template=\"give the stats of the player of all season of ipl : {player}\\n{team}\\n{type}\\n{stats}\"\n",
    ")"
   ]
  },
  {
   "cell_type": "code",
   "execution_count": 85,
   "metadata": {},
   "outputs": [],
   "source": [
    "example_selector=LengthBasedExampleSelector(\n",
    "    examples=examples_length,\n",
    "    example_prompt=example_prompt,\n",
    "    max_length=250,\n",
    "    get_text_length=chat.get_num_tokens\n",
    ")"
   ]
  },
  {
   "cell_type": "code",
   "execution_count": 86,
   "metadata": {},
   "outputs": [],
   "source": [
    "prompt=FewShotPromptTemplate(\n",
    "    example_prompt=example_prompt,\n",
    "    example_selector=example_selector,\n",
    "    prefix=\"give the stats of the player of all season of ipl :\",\n",
    "    suffix=\"Player :{input}\",\n",
    "    input_variables=['input']\n",
    ")"
   ]
  },
  {
   "cell_type": "code",
   "execution_count": 87,
   "metadata": {},
   "outputs": [
    {
     "name": "stdout",
     "output_type": "stream",
     "text": [
      "give the stats of the player of all season of ipl :\n",
      "\n",
      "give the stats of the player of all season of ipl : Virat Kohli\n",
      "RCB\n",
      "batsmen\n",
      "\n",
      "            M:244\t\n",
      "            Inn:236\t\n",
      "            NO:36\t\n",
      "            Runs:7624\t\n",
      "            HS:113\t\n",
      "            Avg:136.75\t\n",
      "            BF:5831\t\n",
      "            SR:130.75\t\n",
      "            100:8\t\n",
      "            200:0\t\n",
      "            50:52\t\n",
      "            4s:678\t\n",
      "            6s:248\n",
      "    \n",
      "    \n",
      "\n",
      "give the stats of the player of all season of ipl : suresh Raina\n",
      "CSK,GL\n",
      "batsmen\n",
      "\n",
      "        M:193\t\n",
      "        Inn:189\t\n",
      "        NO:28\t\n",
      "        Runs:5368\t\n",
      "        HS:100*\t\n",
      "        Avg:33.34\t\n",
      "        BF:3916\t\n",
      "        SR:137.14\t\n",
      "        100:1\t\n",
      "        200:0\t\n",
      "        50:38\t\n",
      "        4s:493\t\n",
      "        6s:194\n",
      "\n",
      "        \n",
      "        \n",
      "\n",
      "Player :rohit sharama\n"
     ]
    }
   ],
   "source": [
    "print(prompt.format(input=\"rohit sharama\"))"
   ]
  },
  {
   "cell_type": "code",
   "execution_count": 89,
   "metadata": {},
   "outputs": [
    {
     "name": "stdout",
     "output_type": "stream",
     "text": [
      "give the stats of the player of all season of ipl :\n",
      "\n",
      "give the stats of the player of all season of ipl : Virat Kohli\n",
      "RCB\n",
      "batsmen\n",
      "\n",
      "            M:244\t\n",
      "            Inn:236\t\n",
      "            NO:36\t\n",
      "            Runs:7624\t\n",
      "            HS:113\t\n",
      "            Avg:136.75\t\n",
      "            BF:5831\t\n",
      "            SR:130.75\t\n",
      "            100:8\t\n",
      "            200:0\t\n",
      "            50:52\t\n",
      "            4s:678\t\n",
      "            6s:248\n",
      "    \n",
      "    \n",
      "\n",
      "give the stats of the player of all season of ipl : suresh Raina\n",
      "CSK,GL\n",
      "batsmen\n",
      "\n",
      "        M:193\t\n",
      "        Inn:189\t\n",
      "        NO:28\t\n",
      "        Runs:5368\t\n",
      "        HS:100*\t\n",
      "        Avg:33.34\t\n",
      "        BF:3916\t\n",
      "        SR:137.14\t\n",
      "        100:1\t\n",
      "        200:0\t\n",
      "        50:38\t\n",
      "        4s:493\t\n",
      "        6s:194\n",
      "\n",
      "        \n",
      "        \n",
      "\n",
      "Player :rohit sharama\n"
     ]
    }
   ],
   "source": [
    "print((prompt.format(input=\"rohit sharama\")))"
   ]
  },
  {
   "cell_type": "code",
   "execution_count": null,
   "metadata": {},
   "outputs": [],
   "source": []
  }
 ],
 "metadata": {
  "kernelspec": {
   "display_name": "Python 3",
   "language": "python",
   "name": "python3"
  },
  "language_info": {
   "codemirror_mode": {
    "name": "ipython",
    "version": 3
   },
   "file_extension": ".py",
   "mimetype": "text/x-python",
   "name": "python",
   "nbconvert_exporter": "python",
   "pygments_lexer": "ipython3",
   "version": "3.9.18"
  }
 },
 "nbformat": 4,
 "nbformat_minor": 2
}

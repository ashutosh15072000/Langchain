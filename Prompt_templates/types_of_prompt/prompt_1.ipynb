{
 "cells": [
  {
   "cell_type": "code",
   "execution_count": 25,
   "metadata": {},
   "outputs": [],
   "source": [
    "import warnings\n",
    "import os\n",
    "warnings.filterwarnings(\"ignore\",category=DeprecationWarning)"
   ]
  },
  {
   "cell_type": "code",
   "execution_count": 30,
   "metadata": {},
   "outputs": [
    {
     "data": {
      "text/plain": [
       "True"
      ]
     },
     "execution_count": 30,
     "metadata": {},
     "output_type": "execute_result"
    }
   ],
   "source": [
    "#### ZERO SHOT\n",
    "from dotenv import load_dotenv\n",
    "load_dotenv()"
   ]
  },
  {
   "cell_type": "code",
   "execution_count": 181,
   "metadata": {},
   "outputs": [],
   "source": [
    "from langchain.llms import OpenAI"
   ]
  },
  {
   "cell_type": "code",
   "execution_count": 168,
   "metadata": {},
   "outputs": [],
   "source": [
    "llm=OpenAI(temperature=0.5,openai_api_key=os.getenv('OPENAI_API_KEY'))\n"
   ]
  },
  {
   "cell_type": "code",
   "execution_count": 169,
   "metadata": {},
   "outputs": [],
   "source": [
    "text='Ms dhoni'"
   ]
  },
  {
   "cell_type": "code",
   "execution_count": 170,
   "metadata": {},
   "outputs": [
    {
     "name": "stdout",
     "output_type": "stream",
     "text": [
      "\n",
      "\n",
      "Mahendra singh dhoni pronunciation (help info) (born 7 july 1981), commonly known as m s dhoni, is an indian international cricketer who captained the indian national team in limited-overs formats from 2007 to 2016 and in test cricket from 2008 to 2014. Ms dhoni 20,186,724 likes 33,070 talking about this member team india, biker, gamer, hindi retro aficionado, an absolute pet-lover and perennially. Mahendra singh dhoni is a well-known indian cricketer, who captained the indian cricket team from 2007 to 2016 and is considered as one of the best captains in the history of indian cricket check out this biography to know about his childhood, family life, achievements and fun facts about him. Mahendra singh dhoni is the current captain of the indian cricket team he was born on 7 july 1981 in ranchi, jharkhand to pan singh and devaki devi dhoni has a sister jayanti gupta and a brother narendra singh dhoni.\n",
      "\n",
      "Mahendra singh dhoni (born 7 july 1981), commonly known\n"
     ]
    }
   ],
   "source": [
    "print(llm(text))"
   ]
  },
  {
   "cell_type": "markdown",
   "metadata": {},
   "source": [
    "## one shot"
   ]
  },
  {
   "cell_type": "markdown",
   "metadata": {},
   "source": []
  },
  {
   "cell_type": "code",
   "execution_count": 171,
   "metadata": {},
   "outputs": [],
   "source": [
    "from langchain.prompts.few_shot import FewShotPromptTemplate\n",
    "from langchain.prompts.prompt import PromptTemplate"
   ]
  },
  {
   "cell_type": "code",
   "execution_count": 172,
   "metadata": {},
   "outputs": [],
   "source": [
    "example=[\n",
    "    {\n",
    "        \"player\": \"Virat Kohli\",\n",
    "        \"stats\": \"\"\"\n",
    "        M:244\t\n",
    "        Inn:236\t\n",
    "        NO:36\t\n",
    "        Runs:7624\t\n",
    "        HS:113\t\n",
    "        Avg:136.75\t\n",
    "        BF:5831\t\n",
    "        SR:130.75\t\n",
    "        100:8\t\n",
    "        200:0\t\n",
    "        50:52\t\n",
    "        4s:678\t\n",
    "        6s:248\n",
    "    \n",
    "    \"\"\"\n",
    "    }\n",
    "]"
   ]
  },
  {
   "cell_type": "code",
   "execution_count": 173,
   "metadata": {},
   "outputs": [],
   "source": [
    "example_prompt=PromptTemplate(\n",
    "    input_variables=['player','stats'],\n",
    "    template=\"give the stats of the player of all season of ipl : {player}\\n{stats}\"\n",
    ")"
   ]
  },
  {
   "cell_type": "code",
   "execution_count": 174,
   "metadata": {},
   "outputs": [
    {
     "name": "stdout",
     "output_type": "stream",
     "text": [
      "give the stats of the player of all season of ipl : Virat Kohli\n",
      "\n",
      "        M:244\t\n",
      "        Inn:236\t\n",
      "        NO:36\t\n",
      "        Runs:7624\t\n",
      "        HS:113\t\n",
      "        Avg:136.75\t\n",
      "        BF:5831\t\n",
      "        SR:130.75\t\n",
      "        100:8\t\n",
      "        200:0\t\n",
      "        50:52\t\n",
      "        4s:678\t\n",
      "        6s:248\n",
      "    \n",
      "    \n"
     ]
    }
   ],
   "source": [
    "print(example_prompt.format(**example[0]))"
   ]
  },
  {
   "cell_type": "code",
   "execution_count": 175,
   "metadata": {},
   "outputs": [],
   "source": [
    "prompt=FewShotPromptTemplate(\n",
    "    examples=example,\n",
    "    example_prompt=example_prompt,\n",
    "    suffix=\"Give the stats of the player of all ipl season  : {input}\",\n",
    "    input_variables=['input']\n",
    ")"
   ]
  },
  {
   "cell_type": "code",
   "execution_count": 176,
   "metadata": {},
   "outputs": [
    {
     "name": "stdout",
     "output_type": "stream",
     "text": [
      "\n",
      "\n",
      "        M:204\t\n",
      "        Inn:182\t\n",
      "        NO:67\t\n",
      "        Runs:4632\t\n",
      "        HS:84*\t\n",
      "        Avg:40.99\t\n",
      "        BF:3267\t\n",
      "        SR:141.2\t\n",
      "        100:0\t\n",
      "        200:0\t\n",
      "        50:23\t\n",
      "        4s:297\t\n",
      "        6s:216\n"
     ]
    }
   ],
   "source": [
    "print(llm(prompt.format(input='MS Dhoni')))"
   ]
  },
  {
   "cell_type": "code",
   "execution_count": 177,
   "metadata": {},
   "outputs": [],
   "source": [
    "examples=[\n",
    "    {\n",
    "        \"player\": \"Virat Kohli\",\n",
    "        \"team\":\"RCB\",\n",
    "        \"stats\": \"\"\"\n",
    "            M:244\t\n",
    "            Inn:236\t\n",
    "            NO:36\t\n",
    "            Runs:7624\t\n",
    "            HS:113\t\n",
    "            Avg:136.75\t\n",
    "            BF:5831\t\n",
    "            SR:130.75\t\n",
    "            100:8\t\n",
    "            200:0\t\n",
    "            50:52\t\n",
    "            4s:678\t\n",
    "            6s:248\n",
    "    \n",
    "    \"\"\"\n",
    "    },\n",
    "\n",
    "    {\n",
    "        \"player\":\"suresh Raina\",\n",
    "        \"team\":\"CSK,GL\",\n",
    "        \"stats\":\"\"\"\n",
    "        M:193\t\n",
    "        Inn:189\t\n",
    "        NO:28\t\n",
    "        Runs:5368\t\n",
    "        HS:100*\t\n",
    "        Avg:33.34\t\n",
    "        BF:3916\t\n",
    "        SR:137.14\t\n",
    "        100:1\t\n",
    "        200:0\t\n",
    "        50:38\t\n",
    "        4s:493\t\n",
    "        6s:194\n",
    "\n",
    "        \n",
    "        \"\"\"\n",
    "    },\n",
    "    {\n",
    "        \"player\":\"MS Dhoni\",\n",
    "        \"team\":\"CSK,pune supergiants\",\n",
    "        \"stats\": \"\"\"\n",
    "            M:204\t\n",
    "            Inn:182\t\n",
    "            NO:67\t\n",
    "            Runs:4632\t\n",
    "            HS:84*\t\n",
    "            Avg:41.57\t\n",
    "            BF:3269\t\n",
    "            SR:141.2\t\n",
    "            100:0\t\n",
    "            200:0\t\n",
    "            50:23\t\n",
    "            4s:317\t\n",
    "            6s:209\n",
    "        \n",
    "        \"\"\"\n",
    "\n",
    "\n",
    "    }\n",
    "]"
   ]
  },
  {
   "cell_type": "code",
   "execution_count": 178,
   "metadata": {},
   "outputs": [],
   "source": [
    "example_prompt=PromptTemplate(\n",
    "    input_variables=['player','team','stats'],\n",
    "    template=\"give the stats of the player of all season of ipl : {player}\\n{team}\\n{stats}\"\n",
    ")"
   ]
  },
  {
   "cell_type": "code",
   "execution_count": 179,
   "metadata": {},
   "outputs": [],
   "source": [
    "prompt=FewShotPromptTemplate(\n",
    "    examples=examples,\n",
    "    example_prompt=example_prompt,\n",
    "    suffix=\"Give the stats of the player of all ipl season  : {input}\",\n",
    "    input_variables=['input']\n",
    ")"
   ]
  },
  {
   "cell_type": "code",
   "execution_count": 180,
   "metadata": {},
   "outputs": [
    {
     "name": "stdout",
     "output_type": "stream",
     "text": [
      "\n",
      "MI,DC,Deccan chargers\n",
      "\n",
      "        M:200\t\n",
      "        Inn:195\t\n",
      "        NO:28\t\n",
      "        Runs:4898\t\n",
      "        HS:109*\t\n",
      "        Avg:31.6\t\n",
      "        BF:3749\t\n",
      "        SR:130.82\t\n",
      "        100:1\t\n",
      "        200:0\t\n",
      "        50:36\t\n",
      "        4s:431\t\n",
      "        6s:194\n"
     ]
    }
   ],
   "source": [
    "print(llm(prompt.format(input='rohit sharama')))"
   ]
  },
  {
   "cell_type": "code",
   "execution_count": null,
   "metadata": {},
   "outputs": [],
   "source": []
  },
  {
   "cell_type": "code",
   "execution_count": null,
   "metadata": {},
   "outputs": [],
   "source": []
  }
 ],
 "metadata": {
  "kernelspec": {
   "display_name": "Python 3",
   "language": "python",
   "name": "python3"
  },
  "language_info": {
   "codemirror_mode": {
    "name": "ipython",
    "version": 3
   },
   "file_extension": ".py",
   "mimetype": "text/x-python",
   "name": "python",
   "nbconvert_exporter": "python",
   "pygments_lexer": "ipython3",
   "version": "3.9.18"
  }
 },
 "nbformat": 4,
 "nbformat_minor": 2
}

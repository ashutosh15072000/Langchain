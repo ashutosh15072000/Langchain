{
 "cells": [
  {
   "cell_type": "code",
   "execution_count": 4,
   "metadata": {},
   "outputs": [],
   "source": [
    "corpus_of_documents = [\n",
    "    \"Take a leisurely walk in the park and enjoy the fresh air.\",\n",
    "    \"Visit a local museum and discover something new.\",\n",
    "    \"Attend a live music concert and feel the rhythm.\",\n",
    "    \"Go for a hike and admire the natural scenery.\",\n",
    "    \"Have a picnic with friends and share some laughs.\",\n",
    "    \"Explore a new cuisine by dining at an ethnic restaurant.\",\n",
    "    \"Take a yoga class and stretch your body and mind.\",\n",
    "    \"Join a local sports league and enjoy some friendly competition.\",\n",
    "    \"Attend a workshop or lecture on a topic you're interested in.\",\n",
    "    \"Visit an amusement park and ride the roller coasters.\"\n",
    "]"
   ]
  },
  {
   "cell_type": "code",
   "execution_count": 5,
   "metadata": {},
   "outputs": [],
   "source": [
    "from collections import Counter\n",
    "import math"
   ]
  },
  {
   "cell_type": "code",
   "execution_count": 6,
   "metadata": {},
   "outputs": [],
   "source": [
    "user_query=\"is yoga good for health\"\n",
    "document=\"yoga is very good for living healthy lifesytle.\""
   ]
  },
  {
   "cell_type": "code",
   "execution_count": 7,
   "metadata": {},
   "outputs": [],
   "source": [
    "def cosine_similarity(query, document):\n",
    "    # Tokenize and convert to lowercase\n",
    "    query_tokens = query.lower().split(\" \")\n",
    "    document_tokens = document.lower().split(\" \")\n",
    "\n",
    "    # Create Counters for query and document\n",
    "    query_counter = Counter(query_tokens)\n",
    "    document_counter = Counter(document_tokens)\n",
    "\n",
    "    # Calculate dot product\n",
    "    dot_product = sum(query_counter[token] * document_counter[token] for token in query_counter.keys() & document_counter.keys())\n",
    "\n",
    "    # Calculate magnitudes\n",
    "    query_magnitude = math.sqrt(sum(query_counter[token] ** 2 for token in query_counter))\n",
    "    document_magnitude = math.sqrt(sum(document_counter[token] ** 2 for token in document_counter))\n",
    "\n",
    "    # Calculate cosine similarity\n",
    "    similarity = dot_product / (query_magnitude * document_magnitude) if query_magnitude * document_magnitude != 0 else 0\n",
    "\n",
    "    return similarity"
   ]
  },
  {
   "cell_type": "code",
   "execution_count": 8,
   "metadata": {},
   "outputs": [
    {
     "data": {
      "text/plain": [
       "0.6324555320336759"
      ]
     },
     "execution_count": 8,
     "metadata": {},
     "output_type": "execute_result"
    }
   ],
   "source": [
    "cosine_similarity(user_query,document)"
   ]
  },
  {
   "cell_type": "code",
   "execution_count": 9,
   "metadata": {},
   "outputs": [],
   "source": [
    "def return_response(query, corpus):\n",
    "    similarities = []\n",
    "    for doc in corpus:\n",
    "        similarity = cosine_similarity(query, doc)\n",
    "        similarities.append(similarity)\n",
    "    return corpus_of_documents[similarities.index(max(similarities))]"
   ]
  },
  {
   "cell_type": "code",
   "execution_count": 10,
   "metadata": {},
   "outputs": [],
   "source": [
    "query=\"i like fresh air.\""
   ]
  },
  {
   "cell_type": "code",
   "execution_count": 11,
   "metadata": {},
   "outputs": [
    {
     "data": {
      "text/plain": [
       "'Take a leisurely walk in the park and enjoy the fresh air.'"
      ]
     },
     "execution_count": 11,
     "metadata": {},
     "output_type": "execute_result"
    }
   ],
   "source": [
    "relevant_document=return_response(query,corpus_of_documents)\n",
    "relevant_document"
   ]
  },
  {
   "cell_type": "code",
   "execution_count": 27,
   "metadata": {},
   "outputs": [
    {
     "name": "stdout",
     "output_type": "stream",
     "text": [
      " Great! Based on your interest in \"fresh air,\" I recommend taking a leisurely walk in the park. It's a great way to enjoy the outdoors and breathe in some fresh air while getting some exercise.\n"
     ]
    }
   ],
   "source": [
    "## how you can configure llm in your local system\n",
    "##LLAMA2\n",
    "## Huggingface\n",
    "import requests\n",
    "import json\n",
    "full_response = []\n",
    "prompt = \"\"\"\n",
    "You are a bot that makes recommendations for activities. You answer in very short sentences and do not include extra information.\n",
    "This is the recommended activity: {relevant_document}\n",
    "The user input is: {user_input}\n",
    "Compile a recommendation to the user based on the recommended activity and the user input.\n",
    "\"\"\"\n",
    "\n",
    "url = 'http://localhost:11434/api/generate'\n",
    "data={\n",
    "    \"model\":\"llama2\",\n",
    "    \"prompt\":prompt.format(user_input=query,relevant_document=relevant_document)\n",
    "\n",
    "}\n",
    "\n",
    "headers={'Content-Type':'application/json'}\n",
    "\n",
    "response=requests.post(url,data=json.dumps(data),headers=headers,stream=True)\n",
    "\n",
    "try:\n",
    "    for line in response.iter_lines():\n",
    "        if line:\n",
    "            decode_line=json.loads(line.decode('utf-8'))\n",
    "            full_response.append(decode_line['response'])\n",
    "finally:\n",
    "    response.close()\n",
    "\n",
    "print(''.join(full_response))            \n",
    "\n"
   ]
  },
  {
   "cell_type": "code",
   "execution_count": 23,
   "metadata": {},
   "outputs": [
    {
     "name": "stdout",
     "output_type": "stream",
     "text": [
      "b'{\"model\":\"llama2\",\"created_at\":\"2024-05-07T07:11:30.2292258Z\",\"response\":\" Great\",\"done\":false}'\n",
      "b'{\"model\":\"llama2\",\"created_at\":\"2024-05-07T07:11:30.2479548Z\",\"response\":\"!\",\"done\":false}'\n",
      "b'{\"model\":\"llama2\",\"created_at\":\"2024-05-07T07:11:30.2664657Z\",\"response\":\" Based\",\"done\":false}'\n",
      "b'{\"model\":\"llama2\",\"created_at\":\"2024-05-07T07:11:30.2848606Z\",\"response\":\" on\",\"done\":false}'\n",
      "b'{\"model\":\"llama2\",\"created_at\":\"2024-05-07T07:11:30.3035115Z\",\"response\":\" your\",\"done\":false}'\n",
      "b'{\"model\":\"llama2\",\"created_at\":\"2024-05-07T07:11:30.321456Z\",\"response\":\" input\",\"done\":false}'\n",
      "b'{\"model\":\"llama2\",\"created_at\":\"2024-05-07T07:11:30.3398143Z\",\"response\":\",\",\"done\":false}'\n",
      "b'{\"model\":\"llama2\",\"created_at\":\"2024-05-07T07:11:30.3588849Z\",\"response\":\" I\",\"done\":false}'\n",
      "b'{\"model\":\"llama2\",\"created_at\":\"2024-05-07T07:11:30.3767161Z\",\"response\":\" recommend\",\"done\":false}'\n",
      "b'{\"model\":\"llama2\",\"created_at\":\"2024-05-07T07:11:30.394094Z\",\"response\":\" taking\",\"done\":false}'\n",
      "b'{\"model\":\"llama2\",\"created_at\":\"2024-05-07T07:11:30.4114551Z\",\"response\":\" a\",\"done\":false}'\n",
      "b'{\"model\":\"llama2\",\"created_at\":\"2024-05-07T07:11:30.4286507Z\",\"response\":\" le\",\"done\":false}'\n",
      "b'{\"model\":\"llama2\",\"created_at\":\"2024-05-07T07:11:30.4466584Z\",\"response\":\"is\",\"done\":false}'\n",
      "b'{\"model\":\"llama2\",\"created_at\":\"2024-05-07T07:11:30.4653195Z\",\"response\":\"ure\",\"done\":false}'\n",
      "b'{\"model\":\"llama2\",\"created_at\":\"2024-05-07T07:11:30.4863134Z\",\"response\":\"ly\",\"done\":false}'\n",
      "b'{\"model\":\"llama2\",\"created_at\":\"2024-05-07T07:11:30.5066891Z\",\"response\":\" walk\",\"done\":false}'\n",
      "b'{\"model\":\"llama2\",\"created_at\":\"2024-05-07T07:11:30.5259506Z\",\"response\":\" in\",\"done\":false}'\n",
      "b'{\"model\":\"llama2\",\"created_at\":\"2024-05-07T07:11:30.5452806Z\",\"response\":\" the\",\"done\":false}'\n",
      "b'{\"model\":\"llama2\",\"created_at\":\"2024-05-07T07:11:30.564147Z\",\"response\":\" park\",\"done\":false}'\n",
      "b'{\"model\":\"llama2\",\"created_at\":\"2024-05-07T07:11:30.5807653Z\",\"response\":\" to\",\"done\":false}'\n",
      "b'{\"model\":\"llama2\",\"created_at\":\"2024-05-07T07:11:30.5996993Z\",\"response\":\" enjoy\",\"done\":false}'\n",
      "b'{\"model\":\"llama2\",\"created_at\":\"2024-05-07T07:11:30.6178153Z\",\"response\":\" the\",\"done\":false}'\n",
      "b'{\"model\":\"llama2\",\"created_at\":\"2024-05-07T07:11:30.6367356Z\",\"response\":\" fresh\",\"done\":false}'\n",
      "b'{\"model\":\"llama2\",\"created_at\":\"2024-05-07T07:11:30.6546461Z\",\"response\":\" air\",\"done\":false}'\n",
      "b'{\"model\":\"llama2\",\"created_at\":\"2024-05-07T07:11:30.6741822Z\",\"response\":\".\",\"done\":false}'\n",
      "b'{\"model\":\"llama2\",\"created_at\":\"2024-05-07T07:11:30.6931724Z\",\"response\":\" It\",\"done\":false}'\n",
      "b'{\"model\":\"llama2\",\"created_at\":\"2024-05-07T07:11:30.7127962Z\",\"response\":\"\\'\",\"done\":false}'\n",
      "b'{\"model\":\"llama2\",\"created_at\":\"2024-05-07T07:11:30.7318837Z\",\"response\":\"s\",\"done\":false}'\n",
      "b'{\"model\":\"llama2\",\"created_at\":\"2024-05-07T07:11:30.751154Z\",\"response\":\" a\",\"done\":false}'\n",
      "b'{\"model\":\"llama2\",\"created_at\":\"2024-05-07T07:11:30.7709319Z\",\"response\":\" great\",\"done\":false}'\n",
      "b'{\"model\":\"llama2\",\"created_at\":\"2024-05-07T07:11:30.7900113Z\",\"response\":\" way\",\"done\":false}'\n",
      "b'{\"model\":\"llama2\",\"created_at\":\"2024-05-07T07:11:30.8088137Z\",\"response\":\" to\",\"done\":false}'\n",
      "b'{\"model\":\"llama2\",\"created_at\":\"2024-05-07T07:11:30.8267359Z\",\"response\":\" clear\",\"done\":false}'\n",
      "b'{\"model\":\"llama2\",\"created_at\":\"2024-05-07T07:11:30.8446135Z\",\"response\":\" your\",\"done\":false}'\n",
      "b'{\"model\":\"llama2\",\"created_at\":\"2024-05-07T07:11:30.8636837Z\",\"response\":\" mind\",\"done\":false}'\n",
      "b'{\"model\":\"llama2\",\"created_at\":\"2024-05-07T07:11:30.8823223Z\",\"response\":\" and\",\"done\":false}'\n",
      "b'{\"model\":\"llama2\",\"created_at\":\"2024-05-07T07:11:30.9002556Z\",\"response\":\" get\",\"done\":false}'\n",
      "b'{\"model\":\"llama2\",\"created_at\":\"2024-05-07T07:11:30.9186786Z\",\"response\":\" some\",\"done\":false}'\n",
      "b'{\"model\":\"llama2\",\"created_at\":\"2024-05-07T07:11:30.9360698Z\",\"response\":\" exercise\",\"done\":false}'\n",
      "b'{\"model\":\"llama2\",\"created_at\":\"2024-05-07T07:11:30.9537448Z\",\"response\":\" while\",\"done\":false}'\n",
      "b'{\"model\":\"llama2\",\"created_at\":\"2024-05-07T07:11:30.9727448Z\",\"response\":\" surrounded\",\"done\":false}'\n",
      "b'{\"model\":\"llama2\",\"created_at\":\"2024-05-07T07:11:30.9908081Z\",\"response\":\" by\",\"done\":false}'\n",
      "b'{\"model\":\"llama2\",\"created_at\":\"2024-05-07T07:11:31.0081688Z\",\"response\":\" nature\",\"done\":false}'\n",
      "b'{\"model\":\"llama2\",\"created_at\":\"2024-05-07T07:11:31.0260588Z\",\"response\":\".\",\"done\":false}'\n",
      "b'{\"model\":\"llama2\",\"created_at\":\"2024-05-07T07:11:31.0441143Z\",\"response\":\"\",\"done\":true,\"context\":[518,25580,29962,3532,14816,29903,29958,5299,829,14816,29903,6778,13,13,13,3492,526,263,9225,393,3732,6907,800,363,14188,29889,887,1234,297,1407,3273,25260,322,437,451,3160,4805,2472,29889,13,4013,338,278,13622,6354,29901,11190,263,454,275,545,368,6686,297,278,14089,322,13389,278,10849,4799,29889,13,1576,1404,1881,338,29901,474,763,10849,4799,29889,13,6843,488,263,29303,304,278,1404,2729,373,278,13622,6354,322,278,1404,1881,29889,13,518,29914,25580,29962,13,7027,29991,16564,373,596,1881,29892,306,6907,5622,263,454,275,545,368,6686,297,278,14089,304,13389,278,10849,4799,29889,739,29915,29879,263,2107,982,304,2821,596,3458,322,679,777,15058,1550,22047,491,5469,29889],\"total_duration\":1059924800,\"load_duration\":1698400,\"prompt_eval_duration\":242863000,\"eval_count\":45,\"eval_duration\":814369000}'\n"
     ]
    }
   ],
   "source": []
  },
  {
   "cell_type": "code",
   "execution_count": null,
   "metadata": {},
   "outputs": [],
   "source": []
  },
  {
   "cell_type": "code",
   "execution_count": null,
   "metadata": {},
   "outputs": [],
   "source": []
  }
 ],
 "metadata": {
  "kernelspec": {
   "display_name": "Python 3",
   "language": "python",
   "name": "python3"
  },
  "language_info": {
   "codemirror_mode": {
    "name": "ipython",
    "version": 3
   },
   "file_extension": ".py",
   "mimetype": "text/x-python",
   "name": "python",
   "nbconvert_exporter": "python",
   "pygments_lexer": "ipython3",
   "version": "3.9.18"
  }
 },
 "nbformat": 4,
 "nbformat_minor": 2
}

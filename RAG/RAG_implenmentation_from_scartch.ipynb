{
 "cells": [
  {
   "cell_type": "code",
   "execution_count": 32,
   "metadata": {},
   "outputs": [],
   "source": [
    "corpus_of_documents = [\n",
    "    \"Take a leisurely walk in the park and enjoy the fresh air.\",\n",
    "    \"Visit a local museum and discover something new.\",\n",
    "    \"Attend a live music concert and feel the rhythm.\",\n",
    "    \"Go for a hike and admire the natural scenery.\",\n",
    "    \"Have a picnic with friends and share some laughs.\",\n",
    "    \"Explore a new cuisine by dining at an ethnic restaurant.\",\n",
    "    \"Take a yoga class and stretch your body and mind.\",\n",
    "    \"Join a local sports league and enjoy some friendly competition.\",\n",
    "    \"Attend a workshop or lecture on a topic you're interested in.\",\n",
    "    \"Visit an amusement park and ride the roller coasters.\"\n",
    "]"
   ]
  },
  {
   "cell_type": "code",
   "execution_count": 33,
   "metadata": {},
   "outputs": [],
   "source": [
    "from collections import Counter\n",
    "import math"
   ]
  },
  {
   "cell_type": "code",
   "execution_count": 34,
   "metadata": {},
   "outputs": [],
   "source": [
    "user_query=\"is yoga good for health\"\n",
    "document=\"yoga is very good for living healthy lifesytle.\""
   ]
  },
  {
   "cell_type": "code",
   "execution_count": 35,
   "metadata": {},
   "outputs": [],
   "source": [
    "def cosine_similarity(query, document):\n",
    "    # Tokenize and convert to lowercase\n",
    "    query_tokens = query.lower().split(\" \")\n",
    "    document_tokens = document.lower().split(\" \")\n",
    "\n",
    "    # Create Counters for query and document\n",
    "    query_counter = Counter(query_tokens)\n",
    "    document_counter = Counter(document_tokens)\n",
    "\n",
    "    # Calculate dot product\n",
    "    dot_product = sum(query_counter[token] * document_counter[token] for token in query_counter.keys() & document_counter.keys())\n",
    "\n",
    "    # Calculate magnitudes\n",
    "    query_magnitude = math.sqrt(sum(query_counter[token] ** 2 for token in query_counter))\n",
    "    document_magnitude = math.sqrt(sum(document_counter[token] ** 2 for token in document_counter))\n",
    "\n",
    "    # Calculate cosine similarity\n",
    "    similarity = dot_product / (query_magnitude * document_magnitude) if query_magnitude * document_magnitude != 0 else 0\n",
    "\n",
    "    return similarity"
   ]
  },
  {
   "cell_type": "code",
   "execution_count": 36,
   "metadata": {},
   "outputs": [
    {
     "data": {
      "text/plain": [
       "0.6324555320336759"
      ]
     },
     "execution_count": 36,
     "metadata": {},
     "output_type": "execute_result"
    }
   ],
   "source": [
    "cosine_similarity(user_query,document)"
   ]
  },
  {
   "cell_type": "code",
   "execution_count": 37,
   "metadata": {},
   "outputs": [],
   "source": [
    "def return_response(query, corpus):\n",
    "    similarities = []\n",
    "    for doc in corpus:\n",
    "        similarity = cosine_similarity(query, doc)\n",
    "        similarities.append(similarity)\n",
    "    return corpus_of_documents[similarities.index(max(similarities))]"
   ]
  },
  {
   "cell_type": "code",
   "execution_count": 38,
   "metadata": {},
   "outputs": [],
   "source": [
    "query=\"i like fresh air.\""
   ]
  },
  {
   "cell_type": "code",
   "execution_count": 39,
   "metadata": {},
   "outputs": [
    {
     "data": {
      "text/plain": [
       "'Take a leisurely walk in the park and enjoy the fresh air.'"
      ]
     },
     "execution_count": 39,
     "metadata": {},
     "output_type": "execute_result"
    }
   ],
   "source": [
    "relevant_document=return_response(query,corpus_of_documents)\n",
    "relevant_document"
   ]
  },
  {
   "cell_type": "code",
   "execution_count": 40,
   "metadata": {},
   "outputs": [],
   "source": [
    "## how you can configure llm in your local system\n",
    "##LLAMA2\n",
    "## Huggingface\n",
    "import requests\n",
    "import json\n",
    "full_response = []\n",
    "prompt = \"\"\"\n",
    "You are a bot that makes recommendations for activities. You answer in very short sentences and do not include extra information.\n",
    "This is the recommended activity: {relevant_document}\n",
    "The user input is: {user_input}\n",
    "Compile a recommendation to the user based on the recommended activity and the user input.\n",
    "\"\"\"\n",
    "\n",
    "url = 'http://localhost:11434/api/generate'\n",
    "data={\n",
    "    \"model\":\"llama2\",\n",
    "    \"prompt\":prompt.format(user_input=query,relevant_document=relevant_document)\n",
    "\n",
    "}\n",
    "\n",
    "headers={'Content-Type':'application/json'}\n",
    "\n",
    "response=requests.post(url,data=json.dumps(data),headers=headers,stream=True)\n",
    "\n",
    "# try:\n",
    "#     for line in response.iter_lines():\n",
    "#         if line:\n",
    "#             decode_line=json.loads(line.decode('utf-8'))\n",
    "#             full_response.append(decode_line['response'])\n",
    "# finally:\n",
    "#     response.close()\n",
    "\n",
    "# print(''.join(full_response))            \n",
    "\n"
   ]
  },
  {
   "cell_type": "code",
   "execution_count": 41,
   "metadata": {},
   "outputs": [
    {
     "name": "stdout",
     "output_type": "stream",
     "text": [
      "{\"model\":\"llama2\",\"created_at\":\"2024-05-07T08:01:18.4278521Z\",\"response\":\" Great\",\"done\":false}\n",
      "{\"model\":\"llama2\",\"created_at\":\"2024-05-07T08:01:18.4467562Z\",\"response\":\"!\",\"done\":false}\n",
      "{\"model\":\"llama2\",\"created_at\":\"2024-05-07T08:01:18.4654008Z\",\"response\":\" Based\",\"done\":false}\n",
      "{\"model\":\"llama2\",\"created_at\":\"2024-05-07T08:01:18.4852912Z\",\"response\":\" on\",\"done\":false}\n",
      "{\"model\":\"llama2\",\"created_at\":\"2024-05-07T08:01:18.5036671Z\",\"response\":\" your\",\"done\":false}\n",
      "{\"model\":\"llama2\",\"created_at\":\"2024-05-07T08:01:18.5232086Z\",\"response\":\" input\",\"done\":false}\n",
      "{\"model\":\"llama2\",\"created_at\":\"2024-05-07T08:01:18.5408412Z\",\"response\":\",\",\"done\":false}\n",
      "{\"model\":\"llama2\",\"created_at\":\"2024-05-07T08:01:18.5598129Z\",\"response\":\" I\",\"done\":false}\n",
      "{\"model\":\"llama2\",\"created_at\":\"2024-05-07T08:01:18.5779788Z\",\"response\":\" recommend\",\"done\":false}\n",
      "{\"model\":\"llama2\",\"created_at\":\"2024-05-07T08:01:18.5959771Z\",\"response\":\" taking\",\"done\":false}\n",
      "{\"model\":\"llama2\",\"created_at\":\"2024-05-07T08:01:18.6146841Z\",\"response\":\" a\",\"done\":false}\n",
      "{\"model\":\"llama2\",\"created_at\":\"2024-05-07T08:01:18.6321893Z\",\"response\":\" le\",\"done\":false}\n",
      "{\"model\":\"llama2\",\"created_at\":\"2024-05-07T08:01:18.6501604Z\",\"response\":\"is\",\"done\":false}\n",
      "{\"model\":\"llama2\",\"created_at\":\"2024-05-07T08:01:18.6691663Z\",\"response\":\"ure\",\"done\":false}\n",
      "{\"model\":\"llama2\",\"created_at\":\"2024-05-07T08:01:18.6879242Z\",\"response\":\"ly\",\"done\":false}\n",
      "{\"model\":\"llama2\",\"created_at\":\"2024-05-07T08:01:18.7075113Z\",\"response\":\" walk\",\"done\":false}\n",
      "{\"model\":\"llama2\",\"created_at\":\"2024-05-07T08:01:18.7263752Z\",\"response\":\" in\",\"done\":false}\n",
      "{\"model\":\"llama2\",\"created_at\":\"2024-05-07T08:01:18.7443333Z\",\"response\":\" the\",\"done\":false}\n",
      "{\"model\":\"llama2\",\"created_at\":\"2024-05-07T08:01:18.7619904Z\",\"response\":\" park\",\"done\":false}\n",
      "{\"model\":\"llama2\",\"created_at\":\"2024-05-07T08:01:18.7806733Z\",\"response\":\" to\",\"done\":false}\n",
      "{\"model\":\"llama2\",\"created_at\":\"2024-05-07T08:01:18.7988733Z\",\"response\":\" enjoy\",\"done\":false}\n",
      "{\"model\":\"llama2\",\"created_at\":\"2024-05-07T08:01:18.8176057Z\",\"response\":\" the\",\"done\":false}\n",
      "{\"model\":\"llama2\",\"created_at\":\"2024-05-07T08:01:18.8353368Z\",\"response\":\" fresh\",\"done\":false}\n",
      "{\"model\":\"llama2\",\"created_at\":\"2024-05-07T08:01:18.8523768Z\",\"response\":\" air\",\"done\":false}\n",
      "{\"model\":\"llama2\",\"created_at\":\"2024-05-07T08:01:18.8708884Z\",\"response\":\".\",\"done\":false}\n",
      "{\"model\":\"llama2\",\"created_at\":\"2024-05-07T08:01:18.8887902Z\",\"response\":\" It\",\"done\":false}\n",
      "{\"model\":\"llama2\",\"created_at\":\"2024-05-07T08:01:18.9077339Z\",\"response\":\"'\",\"done\":false}\n",
      "{\"model\":\"llama2\",\"created_at\":\"2024-05-07T08:01:18.9263132Z\",\"response\":\"s\",\"done\":false}\n",
      "{\"model\":\"llama2\",\"created_at\":\"2024-05-07T08:01:18.9441016Z\",\"response\":\" a\",\"done\":false}\n",
      "{\"model\":\"llama2\",\"created_at\":\"2024-05-07T08:01:18.9616711Z\",\"response\":\" great\",\"done\":false}\n",
      "{\"model\":\"llama2\",\"created_at\":\"2024-05-07T08:01:18.9800728Z\",\"response\":\" way\",\"done\":false}\n",
      "{\"model\":\"llama2\",\"created_at\":\"2024-05-07T08:01:18.9981183Z\",\"response\":\" to\",\"done\":false}\n",
      "{\"model\":\"llama2\",\"created_at\":\"2024-05-07T08:01:19.0157497Z\",\"response\":\" relax\",\"done\":false}\n",
      "{\"model\":\"llama2\",\"created_at\":\"2024-05-07T08:01:19.0340858Z\",\"response\":\" and\",\"done\":false}\n",
      "{\"model\":\"llama2\",\"created_at\":\"2024-05-07T08:01:19.0520626Z\",\"response\":\" re\",\"done\":false}\n",
      "{\"model\":\"llama2\",\"created_at\":\"2024-05-07T08:01:19.0695724Z\",\"response\":\"charge\",\"done\":false}\n",
      "{\"model\":\"llama2\",\"created_at\":\"2024-05-07T08:01:19.0881354Z\",\"response\":\" while\",\"done\":false}\n",
      "{\"model\":\"llama2\",\"created_at\":\"2024-05-07T08:01:19.1057473Z\",\"response\":\" surrounded\",\"done\":false}\n",
      "{\"model\":\"llama2\",\"created_at\":\"2024-05-07T08:01:19.1237006Z\",\"response\":\" by\",\"done\":false}\n",
      "{\"model\":\"llama2\",\"created_at\":\"2024-05-07T08:01:19.1417449Z\",\"response\":\" nature\",\"done\":false}\n",
      "{\"model\":\"llama2\",\"created_at\":\"2024-05-07T08:01:19.1590479Z\",\"response\":\".\",\"done\":false}\n",
      "{\"model\":\"llama2\",\"created_at\":\"2024-05-07T08:01:19.1770971Z\",\"response\":\"\",\"done\":true,\"context\":[518,25580,29962,3532,14816,29903,29958,5299,829,14816,29903,6778,13,13,13,3492,526,263,9225,393,3732,6907,800,363,14188,29889,887,1234,297,1407,3273,25260,322,437,451,3160,4805,2472,29889,13,4013,338,278,13622,6354,29901,11190,263,454,275,545,368,6686,297,278,14089,322,13389,278,10849,4799,29889,13,1576,1404,1881,338,29901,474,763,10849,4799,29889,13,6843,488,263,29303,304,278,1404,2729,373,278,13622,6354,322,278,1404,1881,29889,13,518,29914,25580,29962,13,7027,29991,16564,373,596,1881,29892,306,6907,5622,263,454,275,545,368,6686,297,278,14089,304,13389,278,10849,4799,29889,739,29915,29879,263,2107,982,304,26681,322,337,23367,1550,22047,491,5469,29889],\"total_duration\":4740127500,\"load_duration\":3847125200,\"prompt_eval_count\":98,\"prompt_eval_duration\":143096000,\"eval_count\":42,\"eval_duration\":748614000}\n",
      "\n"
     ]
    }
   ],
   "source": [
    "print(response.text)"
   ]
  },
  {
   "cell_type": "code",
   "execution_count": null,
   "metadata": {},
   "outputs": [],
   "source": []
  },
  {
   "cell_type": "code",
   "execution_count": null,
   "metadata": {},
   "outputs": [],
   "source": []
  }
 ],
 "metadata": {
  "kernelspec": {
   "display_name": "Python 3",
   "language": "python",
   "name": "python3"
  },
  "language_info": {
   "codemirror_mode": {
    "name": "ipython",
    "version": 3
   },
   "file_extension": ".py",
   "mimetype": "text/x-python",
   "name": "python",
   "nbconvert_exporter": "python",
   "pygments_lexer": "ipython3",
   "version": "3.9.18"
  }
 },
 "nbformat": 4,
 "nbformat_minor": 2
}

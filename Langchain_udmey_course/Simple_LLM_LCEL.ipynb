{
 "cells": [
  {
   "cell_type": "code",
   "execution_count": 10,
   "metadata": {},
   "outputs": [],
   "source": [
    "#### GOOGLE API KEY and Open source models -Llama3.1,Gemma2.mistral --Groq\n",
    "import os\n",
    "from dotenv import load_dotenv\n",
    "load_dotenv()\n",
    "\n",
    "from langchain_google_genai import GoogleGenerativeAI\n",
    "GOOGLE_API_KEY=os.getenv(\"GOOGLE_MODEL_API_KEY\")\n",
    "groq_api_key=os.getenv(\"GROQ_API_KEY\")\n"
   ]
  },
  {
   "cell_type": "code",
   "execution_count": 12,
   "metadata": {},
   "outputs": [
    {
     "name": "stdout",
     "output_type": "stream",
     "text": [
      "Requirement already satisfied: langchain_groq in a:\\langchain\\langchainenv\\lib\\site-packages (0.1.9)\n",
      "Requirement already satisfied: groq<1,>=0.4.1 in a:\\langchain\\langchainenv\\lib\\site-packages (from langchain_groq) (0.9.0)\n",
      "Requirement already satisfied: langchain-core<0.3.0,>=0.2.26 in a:\\langchain\\langchainenv\\lib\\site-packages (from langchain_groq) (0.2.26)\n",
      "Requirement already satisfied: anyio<5,>=3.5.0 in a:\\langchain\\langchainenv\\lib\\site-packages (from groq<1,>=0.4.1->langchain_groq) (4.3.0)\n",
      "Requirement already satisfied: distro<2,>=1.7.0 in a:\\langchain\\langchainenv\\lib\\site-packages (from groq<1,>=0.4.1->langchain_groq) (1.9.0)\n",
      "Requirement already satisfied: httpx<1,>=0.23.0 in a:\\langchain\\langchainenv\\lib\\site-packages (from groq<1,>=0.4.1->langchain_groq) (0.27.0)\n",
      "Requirement already satisfied: pydantic<3,>=1.9.0 in a:\\langchain\\langchainenv\\lib\\site-packages (from groq<1,>=0.4.1->langchain_groq) (2.6.3)\n",
      "Requirement already satisfied: sniffio in a:\\langchain\\langchainenv\\lib\\site-packages (from groq<1,>=0.4.1->langchain_groq) (1.3.1)\n",
      "Requirement already satisfied: typing-extensions<5,>=4.7 in a:\\langchain\\langchainenv\\lib\\site-packages (from groq<1,>=0.4.1->langchain_groq) (4.10.0)\n",
      "Requirement already satisfied: PyYAML>=5.3 in a:\\langchain\\langchainenv\\lib\\site-packages (from langchain-core<0.3.0,>=0.2.26->langchain_groq) (6.0.1)\n",
      "Requirement already satisfied: jsonpatch<2.0,>=1.33 in a:\\langchain\\langchainenv\\lib\\site-packages (from langchain-core<0.3.0,>=0.2.26->langchain_groq) (1.33)\n",
      "Requirement already satisfied: langsmith<0.2.0,>=0.1.75 in a:\\langchain\\langchainenv\\lib\\site-packages (from langchain-core<0.3.0,>=0.2.26->langchain_groq) (0.1.95)\n",
      "Requirement already satisfied: packaging<25,>=23.2 in a:\\langchain\\langchainenv\\lib\\site-packages (from langchain-core<0.3.0,>=0.2.26->langchain_groq) (23.2)\n",
      "Requirement already satisfied: tenacity!=8.4.0,<9.0.0,>=8.1.0 in a:\\langchain\\langchainenv\\lib\\site-packages (from langchain-core<0.3.0,>=0.2.26->langchain_groq) (8.2.3)\n",
      "Requirement already satisfied: idna>=2.8 in a:\\langchain\\langchainenv\\lib\\site-packages (from anyio<5,>=3.5.0->groq<1,>=0.4.1->langchain_groq) (3.6)\n",
      "Requirement already satisfied: exceptiongroup>=1.0.2 in a:\\langchain\\langchainenv\\lib\\site-packages (from anyio<5,>=3.5.0->groq<1,>=0.4.1->langchain_groq) (1.2.0)\n",
      "Requirement already satisfied: certifi in a:\\langchain\\langchainenv\\lib\\site-packages (from httpx<1,>=0.23.0->groq<1,>=0.4.1->langchain_groq) (2024.2.2)\n",
      "Requirement already satisfied: httpcore==1.* in a:\\langchain\\langchainenv\\lib\\site-packages (from httpx<1,>=0.23.0->groq<1,>=0.4.1->langchain_groq) (1.0.4)\n",
      "Requirement already satisfied: h11<0.15,>=0.13 in a:\\langchain\\langchainenv\\lib\\site-packages (from httpcore==1.*->httpx<1,>=0.23.0->groq<1,>=0.4.1->langchain_groq) (0.14.0)\n",
      "Requirement already satisfied: jsonpointer>=1.9 in a:\\langchain\\langchainenv\\lib\\site-packages (from jsonpatch<2.0,>=1.33->langchain-core<0.3.0,>=0.2.26->langchain_groq) (2.4)\n",
      "Requirement already satisfied: orjson<4.0.0,>=3.9.14 in a:\\langchain\\langchainenv\\lib\\site-packages (from langsmith<0.2.0,>=0.1.75->langchain-core<0.3.0,>=0.2.26->langchain_groq) (3.9.15)\n",
      "Requirement already satisfied: requests<3,>=2 in a:\\langchain\\langchainenv\\lib\\site-packages (from langsmith<0.2.0,>=0.1.75->langchain-core<0.3.0,>=0.2.26->langchain_groq) (2.31.0)\n",
      "Requirement already satisfied: annotated-types>=0.4.0 in a:\\langchain\\langchainenv\\lib\\site-packages (from pydantic<3,>=1.9.0->groq<1,>=0.4.1->langchain_groq) (0.6.0)\n",
      "Requirement already satisfied: pydantic-core==2.16.3 in a:\\langchain\\langchainenv\\lib\\site-packages (from pydantic<3,>=1.9.0->groq<1,>=0.4.1->langchain_groq) (2.16.3)\n",
      "Requirement already satisfied: charset-normalizer<4,>=2 in a:\\langchain\\langchainenv\\lib\\site-packages (from requests<3,>=2->langsmith<0.2.0,>=0.1.75->langchain-core<0.3.0,>=0.2.26->langchain_groq) (3.3.2)\n",
      "Requirement already satisfied: urllib3<3,>=1.21.1 in a:\\langchain\\langchainenv\\lib\\site-packages (from requests<3,>=2->langsmith<0.2.0,>=0.1.75->langchain-core<0.3.0,>=0.2.26->langchain_groq) (2.2.1)\n"
     ]
    },
    {
     "name": "stderr",
     "output_type": "stream",
     "text": [
      "WARNING: Ignoring invalid distribution -treamlit (a:\\langchain\\langchainenv\\lib\\site-packages)\n",
      "WARNING: Ignoring invalid distribution -treamlit (a:\\langchain\\langchainenv\\lib\\site-packages)\n"
     ]
    }
   ],
   "source": [
    "!pip install langchain_groq"
   ]
  },
  {
   "cell_type": "code",
   "execution_count": 13,
   "metadata": {},
   "outputs": [
    {
     "data": {
      "text/plain": [
       "ChatGroq(client=<groq.resources.chat.completions.Completions object at 0x00000203441BFFD0>, async_client=<groq.resources.chat.completions.AsyncCompletions object at 0x00000203441BF2E0>, model_name='Gemma2-9b-It', groq_api_key=SecretStr('**********'))"
      ]
     },
     "execution_count": 13,
     "metadata": {},
     "output_type": "execute_result"
    }
   ],
   "source": [
    "from langchain_groq import ChatGroq\n",
    "llm=ChatGroq(model=\"Gemma2-9b-It\",groq_api_key=groq_api_key)\n",
    "llm"
   ]
  },
  {
   "cell_type": "code",
   "execution_count": 17,
   "metadata": {},
   "outputs": [
    {
     "name": "stdout",
     "output_type": "stream",
     "text": [
      "Generative AI is a type of artificial intelligence that focuses on creating new content, rather than simply analyzing existing data. \n",
      "\n",
      "Think of it like this:\n",
      "\n",
      "* **Traditional AI:**  Analyzes data to find patterns and make predictions (e.g., recommending a movie you might like based on your past viewing history).\n",
      "\n",
      "* **Generative AI:** Learns from data to create something new based on that learning (e.g., writing a poem in the style of Shakespeare, composing a piece of music, or generating an image of a cat wearing a hat).\n",
      "\n",
      "**Here's a breakdown:**\n",
      "\n",
      "* **How it works:** Generative AI models are trained on massive datasets of text, images, audio, or other types of data. They learn the underlying patterns and structures within this data. Then, they can use this knowledge to generate new content that resembles the training data.\n",
      "* **Examples:**\n",
      "\n",
      "    * **Text Generation:**\n",
      "\n",
      "        * Writing stories, articles, poems, and even code.\n",
      "        * Chatbots that can engage in natural-sounding conversations.\n",
      "        * Summarizing large amounts of text.\n",
      "\n",
      "    * **Image Generation:**\n",
      "\n",
      "        * Creating realistic images from text descriptions (like DALL-E 2).\n",
      "        * Editing and enhancing existing images.\n",
      "        * Generating artwork in various styles.\n",
      "\n",
      "    * **Audio Generation:**\n",
      "\n",
      "        * Composing music and sound effects.\n",
      "        * Generating realistic speech.\n",
      "\n",
      "    * **Other Applications:**\n",
      "\n",
      "        * Drug discovery\n",
      "        * Design and prototyping\n",
      "        * Personalized education\n",
      "\n",
      "**Key Technologies:**\n",
      "\n",
      "* **Deep Learning:**  A subset of machine learning that uses artificial neural networks with multiple layers to learn complex patterns.\n",
      "* **Generative Adversarial Networks (GANs):**  A type of deep learning architecture that pits two neural networks against each other: a generator that creates new content and a discriminator that tries to distinguish between real and generated content. This adversarial training process leads to increasingly realistic outputs.\n",
      "* **Transformer Models:**  A powerful type of deep learning architecture that has revolutionized natural language processing. Models like GPT-3 and LaMDA are based on transformers.\n",
      "\n",
      "**Ethical Considerations:**\n",
      "\n",
      "Generative AI raises important ethical considerations, such as:\n",
      "\n",
      "* **Bias and Fairness:** AI models can inherit and amplify biases present in the training data, leading to unfair or discriminatory outputs.\n",
      "* **Misinformation and Deepfakes:**  The ability to generate realistic synthetic content can be misused for creating fake news, manipulating public opinion, or impersonating individuals.\n",
      "* **Copyright and Intellectual Property:**  Questions arise about the ownership and copyright of content generated by AI.\n",
      "\n",
      "\n",
      "\n",
      "Let me know if you'd like to explore any of these aspects in more detail!\n",
      "\n"
     ]
    }
   ],
   "source": [
    "print(llm.invoke(\"What is Generative AI\").content)"
   ]
  },
  {
   "cell_type": "code",
   "execution_count": null,
   "metadata": {},
   "outputs": [],
   "source": []
  },
  {
   "cell_type": "code",
   "execution_count": null,
   "metadata": {},
   "outputs": [],
   "source": []
  },
  {
   "cell_type": "code",
   "execution_count": null,
   "metadata": {},
   "outputs": [],
   "source": []
  },
  {
   "cell_type": "code",
   "execution_count": null,
   "metadata": {},
   "outputs": [],
   "source": []
  },
  {
   "cell_type": "code",
   "execution_count": null,
   "metadata": {},
   "outputs": [],
   "source": []
  },
  {
   "cell_type": "code",
   "execution_count": null,
   "metadata": {},
   "outputs": [],
   "source": []
  }
 ],
 "metadata": {
  "kernelspec": {
   "display_name": "Python 3",
   "language": "python",
   "name": "python3"
  },
  "language_info": {
   "codemirror_mode": {
    "name": "ipython",
    "version": 3
   },
   "file_extension": ".py",
   "mimetype": "text/x-python",
   "name": "python",
   "nbconvert_exporter": "python",
   "pygments_lexer": "ipython3",
   "version": "3.9.18"
  }
 },
 "nbformat": 4,
 "nbformat_minor": 2
}

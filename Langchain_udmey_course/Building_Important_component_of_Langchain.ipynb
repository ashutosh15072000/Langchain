{
 "cells": [
  {
   "cell_type": "code",
   "execution_count": 65,
   "metadata": {},
   "outputs": [],
   "source": [
    "import os\n",
    "from dotenv import load_dotenv\n",
    "load_dotenv()\n",
    "os.environ['GOOGLE_API_KEY']=os.getenv(\"GOOGLE_MODEL_API_KEY\")\n",
    "##Langchain Tracking\n",
    "os.environ[\"LANGCHAIN_API_KEY\"]=os.getenv(\"LANGCHAIN_API_KEY\")\n",
    "os.environ['LANGCHAIN_TRACING_V2']=\"true\"\n",
    "os.environ['LANGCHAIN_PROJECT']=os.getenv(\"LANGCHAIN_PROJECT\")\n"
   ]
  },
  {
   "cell_type": "code",
   "execution_count": 68,
   "metadata": {},
   "outputs": [
    {
     "name": "stdout",
     "output_type": "stream",
     "text": [
      "\u001b[1mGoogleGenerativeAI\u001b[0m\n",
      "Params: {'model': 'gemini-pro', 'temperature': 0.7, 'top_p': None, 'top_k': None, 'max_output_tokens': None, 'candidate_count': 1}\n"
     ]
    }
   ],
   "source": [
    "from langchain_google_genai import GoogleGenerativeAI\n",
    "llm = GoogleGenerativeAI(model=\"gemini-pro\")\n",
    "print(llm)"
   ]
  },
  {
   "cell_type": "code",
   "execution_count": 70,
   "metadata": {},
   "outputs": [],
   "source": [
    "## input and get response from llm\n",
    "result=llm.invoke(\"What is Generative AI?\")"
   ]
  },
  {
   "cell_type": "code",
   "execution_count": 71,
   "metadata": {},
   "outputs": [
    {
     "name": "stdout",
     "output_type": "stream",
     "text": [
      "**Generative AI**\n",
      "\n",
      "Generative AI refers to artificial intelligence (AI) systems that can create new data or content from scratch, rather than simply analyzing or manipulating existing data. It involves generating novel outputs that are often indistinguishable from human-generated content.\n",
      "\n",
      "**Characteristics of Generative AI:**\n",
      "\n",
      "* **Data-driven:** Generative AI models are trained on vast datasets to learn the underlying patterns and structures of the data.\n",
      "* **Stochastic:** They generate outputs that are probabilistic and may vary slightly each time.\n",
      "* **Creative:** Generative AI can create original and diverse content, such as images, text, music, and code.\n",
      "* **Imitative:** It can mimic human creativity and style, producing results that resemble human-generated content.\n",
      "\n",
      "**Types of Generative AI:**\n",
      "\n",
      "* **Generative Adversarial Networks (GANs):** Two neural networks compete against each other to generate realistic images or other data.\n",
      "* **Variational Autoencoders (VAEs):** Encode input data into a latent space and then decode it to generate new data.\n",
      "* **Transformer-based Models (e.g., GPT-3, DALL-E 2):** Use attention mechanisms to understand the context and generate text, images, or code.\n",
      "\n",
      "**Applications of Generative AI:**\n",
      "\n",
      "* **Image generation:** Creating realistic images, portraits, and art.\n",
      "* **Text generation:** Generating natural-sounding text, including stories, news articles, and marketing copy.\n",
      "* **Music generation:** Composing original music tracks in various styles.\n",
      "* **Code generation:** Generating code snippets and entire programs.\n",
      "* **Drug discovery:** Creating new drug candidates for medical research.\n",
      "\n",
      "**Benefits of Generative AI:**\n",
      "\n",
      "* **Content creation:** Automating the creation of high-quality content for various applications.\n",
      "* **Personalization:** Tailoring content to individual preferences and needs.\n",
      "* **Innovation:** Fostering creativity and enabling the exploration of new ideas.\n",
      "* **Efficiency:** Reducing the time and effort required to create content.\n",
      "\n",
      "**Challenges of Generative AI:**\n",
      "\n",
      "* **Bias:** Generative AI models can inherit biases from the training data, leading to biased outputs.\n",
      "* **Copyright infringement:** Concerns over the use of copyrighted content in generated data.\n",
      "* **Ethical implications:** Potential misuse of generative AI for malicious purposes, such as creating fake news or spreading misinformation.\n"
     ]
    }
   ],
   "source": [
    "print(result)"
   ]
  },
  {
   "cell_type": "code",
   "execution_count": 74,
   "metadata": {},
   "outputs": [
    {
     "data": {
      "text/plain": [
       "ChatPromptTemplate(input_variables=['input'], messages=[SystemMessagePromptTemplate(prompt=PromptTemplate(input_variables=[], template='You are an expert AI Engineer.Provide me answers based on the questions')), HumanMessagePromptTemplate(prompt=PromptTemplate(input_variables=['input'], template='{input}'))])"
      ]
     },
     "execution_count": 74,
     "metadata": {},
     "output_type": "execute_result"
    }
   ],
   "source": [
    "## chatPrompt Template\n",
    "from langchain_core.prompts import ChatPromptTemplate,PromptTemplate\n",
    "prompt=ChatPromptTemplate(\n",
    "    [\n",
    "        (\"system\",\"You are an expert AI Engineer.Provide me answers based on the questions\"),\n",
    "        (\"user\",\"{input}\")\n",
    "    ]\n",
    ")\n",
    "prompt"
   ]
  },
  {
   "cell_type": "code",
   "execution_count": 77,
   "metadata": {},
   "outputs": [],
   "source": [
    "chain=prompt|llm\n",
    "\n",
    "response=chain.invoke({\"input\":\"Can you tell me about knownlege Gragh\"})"
   ]
  },
  {
   "cell_type": "code",
   "execution_count": 80,
   "metadata": {},
   "outputs": [
    {
     "name": "stdout",
     "output_type": "stream",
     "text": [
      "What is a Knowledge Graph?\n",
      "\n",
      "A Knowledge Graph (KG) is a structured representation of knowledge that links together entities (e.g., people, places, things, concepts) and their relationships. It serves as a semantic network that captures the interconnections between various pieces of information.\n",
      "\n",
      "Key Components of a Knowledge Graph:\n",
      "\n",
      " Entities: Objects or concepts that are the focus of the graph.\n",
      " Properties: Attributes or characteristics that describe entities.\n",
      " Relationships: Connections between entities that indicate their associations or interactions.\n",
      " Ontology: A set of rules and definitions that define the structure and relationships within the graph.\n",
      "\n",
      "Types of Knowledge Graphs:\n",
      "\n",
      " Domain-Specific: Focuses on a particular domain, such as healthcare, finance, or transportation.\n",
      " General-Purpose: Covers a wide range of domains and topics.\n",
      " Vertical: Specialized in a specific industry or application.\n",
      " Horizontal: Applicable across multiple industries and domains.\n",
      "\n",
      "Applications of Knowledge Graphs:\n",
      "\n",
      " Search and Discovery: Enhancing search results by providing context and related information.\n",
      " Recommendation Systems: Personalizing recommendations based on user preferences and connections.\n",
      " Data Integration: Connecting data from multiple sources and providing a unified view.\n",
      " Natural Language Processing (NLP): Improving NLP tasks by providing semantic context.\n",
      " Decision Support: Providing insights and knowledge to support decision-making.\n",
      "\n",
      "Benefits of Knowledge Graphs:\n",
      "\n",
      " Improved Data Understanding: Provides a structured and interconnected view of data.\n",
      " Enhanced Information Retrieval: Enables efficient and precise information retrieval.\n",
      " Knowledge Discovery: Facilitates the identification of patterns and relationships that may not be evident from raw data.\n",
      " Automation: Automates certain tasks by leveraging the interconnectedness of knowledge.\n",
      " Interoperability: Facilitates the exchange and sharing of knowledge across systems.\n"
     ]
    }
   ],
   "source": [
    "print(response.replace(\"*\",\"\"))"
   ]
  },
  {
   "cell_type": "code",
   "execution_count": 81,
   "metadata": {},
   "outputs": [
    {
     "data": {
      "text/plain": [
       "'**What is a Knowledge Graph?**\\n\\nA knowledge graph is a structured representation of interconnected knowledge that describes real-world entities and their relationships. It consists of:\\n\\n* **Entities:** Objects, concepts, or events that exist in the world (e.g., people, places, things).\\n* **Properties:** Attributes or characteristics of entities (e.g., name, age, location).\\n* **Relationships:** Connections between entities (e.g., \"is a parent of,\" \"works at\").\\n\\n**Key Features of Knowledge Graphs:**\\n\\n* **Structured data:** Information is organized in a formal and machine-readable format.\\n* **Interconnectedness:** Entities and relationships are linked together, creating a web of knowledge.\\n* **Domain-specific or general:** Knowledge graphs can focus on specific domains (e.g., medicine, finance) or cover a wide range of topics.\\n* **Scalability:** Knowledge graphs can be expanded and updated over time as new information becomes available.\\n\\n**Applications of Knowledge Graphs:**\\n\\nKnowledge graphs have numerous applications, including:\\n\\n* **Search and discovery:** Enhancing search results with relevant and interconnected information.\\n* **Question answering:** Providing answers to complex questions by leveraging relationships between entities.\\n* **Recommendation systems:** Suggesting items or services based on user\\'s interests and knowledge.\\n* **Data integration:** Combining data from disparate sources and creating a unified representation.\\n* **Business intelligence:** Identifying patterns, trends, and insights from structured knowledge.\\n\\n**Examples of Knowledge Graphs:**\\n\\n* **Google Knowledge Graph:** Integrates information from various sources to provide rich search results.\\n* **Wikipedia Knowledge Graph:** Extracts structured data from Wikipedia articles to create a comprehensive knowledge base.\\n* **YAGO Knowledge Graph:** Combines knowledge from Wikipedia, WordNet, and GeoNames to create a large-scale ontology.\\n\\n**Benefits of Using Knowledge Graphs:**\\n\\n* **Improved data accuracy and consistency:** Structured data reduces errors and ensures consistency across different systems.\\n* **Enhanced search and discovery:** Interconnections provide deeper insights and facilitate more comprehensive search results.\\n* **Increased data utilization:** Knowledge graphs make data more accessible and usable for various applications.\\n* **Facilitation of AI and machine learning:** Structured knowledge can be used to train AI models and improve their reasoning abilities.'"
      ]
     },
     "execution_count": 81,
     "metadata": {},
     "output_type": "execute_result"
    }
   ],
   "source": [
    "## stroutput Parser\n",
    "from langchain_core.output_parsers import StrOutputParser\n",
    "output_parser=StrOutputParser()\n",
    "chain=prompt|llm|output_parser\n",
    "response=chain.invoke({\"input\":\"Can you tell me about knownlege Gragh\"})\n",
    "response"
   ]
  },
  {
   "cell_type": "code",
   "execution_count": null,
   "metadata": {},
   "outputs": [],
   "source": []
  }
 ],
 "metadata": {
  "kernelspec": {
   "display_name": "Python 3",
   "language": "python",
   "name": "python3"
  },
  "language_info": {
   "codemirror_mode": {
    "name": "ipython",
    "version": 3
   },
   "file_extension": ".py",
   "mimetype": "text/x-python",
   "name": "python",
   "nbconvert_exporter": "python",
   "pygments_lexer": "ipython3",
   "version": "3.9.18"
  }
 },
 "nbformat": 4,
 "nbformat_minor": 2
}
